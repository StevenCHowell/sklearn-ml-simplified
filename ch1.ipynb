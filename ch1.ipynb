{
 "cells": [
  {
   "cell_type": "code",
   "execution_count": 14,
   "metadata": {
    "collapsed": true
   },
   "outputs": [],
   "source": [
    "import numpy as np"
   ]
  },
  {
   "cell_type": "code",
   "execution_count": 15,
   "metadata": {
    "collapsed": true
   },
   "outputs": [],
   "source": [
    "import bokeh.plotting"
   ]
  },
  {
   "cell_type": "code",
   "execution_count": 16,
   "metadata": {},
   "outputs": [
    {
     "data": {
      "text/html": [
       "\n",
       "    <div class=\"bk-root\">\n",
       "        <a href=\"https://bokeh.pydata.org\" target=\"_blank\" class=\"bk-logo bk-logo-small bk-logo-notebook\"></a>\n",
       "        <span id=\"91f11e66-1a95-4228-a424-335a25cd704b\">Loading BokehJS ...</span>\n",
       "    </div>"
      ]
     },
     "metadata": {},
     "output_type": "display_data"
    },
    {
     "data": {
      "application/javascript": [
       "\n",
       "(function(root) {\n",
       "  function now() {\n",
       "    return new Date();\n",
       "  }\n",
       "\n",
       "  var force = true;\n",
       "\n",
       "  if (typeof (root._bokeh_onload_callbacks) === \"undefined\" || force === true) {\n",
       "    root._bokeh_onload_callbacks = [];\n",
       "    root._bokeh_is_loading = undefined;\n",
       "  }\n",
       "\n",
       "  var JS_MIME_TYPE = 'application/javascript';\n",
       "  var HTML_MIME_TYPE = 'text/html';\n",
       "  var EXEC_MIME_TYPE = 'application/vnd.bokehjs_exec.v0+json';\n",
       "  var CLASS_NAME = 'output_bokeh rendered_html';\n",
       "\n",
       "  /**\n",
       "   * Render data to the DOM node\n",
       "   */\n",
       "  function render(props, node) {\n",
       "    var script = document.createElement(\"script\");\n",
       "    node.appendChild(script);\n",
       "  }\n",
       "\n",
       "  /**\n",
       "   * Handle when an output is cleared or removed\n",
       "   */\n",
       "  function handleClearOutput(event, handle) {\n",
       "    var cell = handle.cell;\n",
       "\n",
       "    var id = cell.output_area._bokeh_element_id;\n",
       "    var server_id = cell.output_area._bokeh_server_id;\n",
       "    // Clean up Bokeh references\n",
       "    if (id !== undefined) {\n",
       "      Bokeh.index[id].model.document.clear();\n",
       "      delete Bokeh.index[id];\n",
       "    }\n",
       "\n",
       "    if (server_id !== undefined) {\n",
       "      // Clean up Bokeh references\n",
       "      var cmd = \"from bokeh.io.state import curstate; print(curstate().uuid_to_server['\" + server_id + \"'].get_sessions()[0].document.roots[0]._id)\";\n",
       "      cell.notebook.kernel.execute(cmd, {\n",
       "        iopub: {\n",
       "          output: function(msg) {\n",
       "            var element_id = msg.content.text.trim();\n",
       "            Bokeh.index[element_id].model.document.clear();\n",
       "            delete Bokeh.index[element_id];\n",
       "          }\n",
       "        }\n",
       "      });\n",
       "      // Destroy server and session\n",
       "      var cmd = \"import bokeh.io.notebook as ion; ion.destroy_server('\" + server_id + \"')\";\n",
       "      cell.notebook.kernel.execute(cmd);\n",
       "    }\n",
       "  }\n",
       "\n",
       "  /**\n",
       "   * Handle when a new output is added\n",
       "   */\n",
       "  function handleAddOutput(event, handle) {\n",
       "    var output_area = handle.output_area;\n",
       "    var output = handle.output;\n",
       "\n",
       "    // limit handleAddOutput to display_data with EXEC_MIME_TYPE content only\n",
       "    if ((output.output_type != \"display_data\") || (!output.data.hasOwnProperty(EXEC_MIME_TYPE))) {\n",
       "      return\n",
       "    }\n",
       "\n",
       "    var toinsert = output_area.element.find(\".\" + CLASS_NAME.split(' ')[0]);\n",
       "\n",
       "    if (output.metadata[EXEC_MIME_TYPE][\"id\"] !== undefined) {\n",
       "      toinsert[0].firstChild.textContent = output.data[JS_MIME_TYPE];\n",
       "      // store reference to embed id on output_area\n",
       "      output_area._bokeh_element_id = output.metadata[EXEC_MIME_TYPE][\"id\"];\n",
       "    }\n",
       "    if (output.metadata[EXEC_MIME_TYPE][\"server_id\"] !== undefined) {\n",
       "      var bk_div = document.createElement(\"div\");\n",
       "      bk_div.innerHTML = output.data[HTML_MIME_TYPE];\n",
       "      var script_attrs = bk_div.children[0].attributes;\n",
       "      for (var i = 0; i < script_attrs.length; i++) {\n",
       "        toinsert[0].firstChild.setAttribute(script_attrs[i].name, script_attrs[i].value);\n",
       "      }\n",
       "      // store reference to server id on output_area\n",
       "      output_area._bokeh_server_id = output.metadata[EXEC_MIME_TYPE][\"server_id\"];\n",
       "    }\n",
       "  }\n",
       "\n",
       "  function register_renderer(events, OutputArea) {\n",
       "\n",
       "    function append_mime(data, metadata, element) {\n",
       "      // create a DOM node to render to\n",
       "      var toinsert = this.create_output_subarea(\n",
       "        metadata,\n",
       "        CLASS_NAME,\n",
       "        EXEC_MIME_TYPE\n",
       "      );\n",
       "      this.keyboard_manager.register_events(toinsert);\n",
       "      // Render to node\n",
       "      var props = {data: data, metadata: metadata[EXEC_MIME_TYPE]};\n",
       "      render(props, toinsert[0]);\n",
       "      element.append(toinsert);\n",
       "      return toinsert\n",
       "    }\n",
       "\n",
       "    /* Handle when an output is cleared or removed */\n",
       "    events.on('clear_output.CodeCell', handleClearOutput);\n",
       "    events.on('delete.Cell', handleClearOutput);\n",
       "\n",
       "    /* Handle when a new output is added */\n",
       "    events.on('output_added.OutputArea', handleAddOutput);\n",
       "\n",
       "    /**\n",
       "     * Register the mime type and append_mime function with output_area\n",
       "     */\n",
       "    OutputArea.prototype.register_mime_type(EXEC_MIME_TYPE, append_mime, {\n",
       "      /* Is output safe? */\n",
       "      safe: true,\n",
       "      /* Index of renderer in `output_area.display_order` */\n",
       "      index: 0\n",
       "    });\n",
       "  }\n",
       "\n",
       "  // register the mime type if in Jupyter Notebook environment and previously unregistered\n",
       "  if (root.Jupyter !== undefined) {\n",
       "    var events = require('base/js/events');\n",
       "    var OutputArea = require('notebook/js/outputarea').OutputArea;\n",
       "\n",
       "    if (OutputArea.prototype.mime_types().indexOf(EXEC_MIME_TYPE) == -1) {\n",
       "      register_renderer(events, OutputArea);\n",
       "    }\n",
       "  }\n",
       "\n",
       "  \n",
       "  if (typeof (root._bokeh_timeout) === \"undefined\" || force === true) {\n",
       "    root._bokeh_timeout = Date.now() + 5000;\n",
       "    root._bokeh_failed_load = false;\n",
       "  }\n",
       "\n",
       "  var NB_LOAD_WARNING = {'data': {'text/html':\n",
       "     \"<div style='background-color: #fdd'>\\n\"+\n",
       "     \"<p>\\n\"+\n",
       "     \"BokehJS does not appear to have successfully loaded. If loading BokehJS from CDN, this \\n\"+\n",
       "     \"may be due to a slow or bad network connection. Possible fixes:\\n\"+\n",
       "     \"</p>\\n\"+\n",
       "     \"<ul>\\n\"+\n",
       "     \"<li>re-rerun `output_notebook()` to attempt to load from CDN again, or</li>\\n\"+\n",
       "     \"<li>use INLINE resources instead, as so:</li>\\n\"+\n",
       "     \"</ul>\\n\"+\n",
       "     \"<code>\\n\"+\n",
       "     \"from bokeh.resources import INLINE\\n\"+\n",
       "     \"output_notebook(resources=INLINE)\\n\"+\n",
       "     \"</code>\\n\"+\n",
       "     \"</div>\"}};\n",
       "\n",
       "  function display_loaded() {\n",
       "    var el = document.getElementById(\"91f11e66-1a95-4228-a424-335a25cd704b\");\n",
       "    if (el != null) {\n",
       "      el.textContent = \"BokehJS is loading...\";\n",
       "    }\n",
       "    if (root.Bokeh !== undefined) {\n",
       "      if (el != null) {\n",
       "        el.textContent = \"BokehJS \" + root.Bokeh.version + \" successfully loaded.\";\n",
       "      }\n",
       "    } else if (Date.now() < root._bokeh_timeout) {\n",
       "      setTimeout(display_loaded, 100)\n",
       "    }\n",
       "  }\n",
       "\n",
       "\n",
       "  function run_callbacks() {\n",
       "    try {\n",
       "      root._bokeh_onload_callbacks.forEach(function(callback) { callback() });\n",
       "    }\n",
       "    finally {\n",
       "      delete root._bokeh_onload_callbacks\n",
       "    }\n",
       "    console.info(\"Bokeh: all callbacks have finished\");\n",
       "  }\n",
       "\n",
       "  function load_libs(js_urls, callback) {\n",
       "    root._bokeh_onload_callbacks.push(callback);\n",
       "    if (root._bokeh_is_loading > 0) {\n",
       "      console.log(\"Bokeh: BokehJS is being loaded, scheduling callback at\", now());\n",
       "      return null;\n",
       "    }\n",
       "    if (js_urls == null || js_urls.length === 0) {\n",
       "      run_callbacks();\n",
       "      return null;\n",
       "    }\n",
       "    console.log(\"Bokeh: BokehJS not loaded, scheduling load and callback at\", now());\n",
       "    root._bokeh_is_loading = js_urls.length;\n",
       "    for (var i = 0; i < js_urls.length; i++) {\n",
       "      var url = js_urls[i];\n",
       "      var s = document.createElement('script');\n",
       "      s.src = url;\n",
       "      s.async = false;\n",
       "      s.onreadystatechange = s.onload = function() {\n",
       "        root._bokeh_is_loading--;\n",
       "        if (root._bokeh_is_loading === 0) {\n",
       "          console.log(\"Bokeh: all BokehJS libraries loaded\");\n",
       "          run_callbacks()\n",
       "        }\n",
       "      };\n",
       "      s.onerror = function() {\n",
       "        console.warn(\"failed to load library \" + url);\n",
       "      };\n",
       "      console.log(\"Bokeh: injecting script tag for BokehJS library: \", url);\n",
       "      document.getElementsByTagName(\"head\")[0].appendChild(s);\n",
       "    }\n",
       "  };var element = document.getElementById(\"91f11e66-1a95-4228-a424-335a25cd704b\");\n",
       "  if (element == null) {\n",
       "    console.log(\"Bokeh: ERROR: autoload.js configured with elementid '91f11e66-1a95-4228-a424-335a25cd704b' but no matching script tag was found. \")\n",
       "    return false;\n",
       "  }\n",
       "\n",
       "  var js_urls = [\"https://cdn.pydata.org/bokeh/release/bokeh-0.12.13.min.js\", \"https://cdn.pydata.org/bokeh/release/bokeh-widgets-0.12.13.min.js\", \"https://cdn.pydata.org/bokeh/release/bokeh-tables-0.12.13.min.js\", \"https://cdn.pydata.org/bokeh/release/bokeh-gl-0.12.13.min.js\"];\n",
       "\n",
       "  var inline_js = [\n",
       "    function(Bokeh) {\n",
       "      Bokeh.set_log_level(\"info\");\n",
       "    },\n",
       "    \n",
       "    function(Bokeh) {\n",
       "      \n",
       "    },\n",
       "    function(Bokeh) {\n",
       "      console.log(\"Bokeh: injecting CSS: https://cdn.pydata.org/bokeh/release/bokeh-0.12.13.min.css\");\n",
       "      Bokeh.embed.inject_css(\"https://cdn.pydata.org/bokeh/release/bokeh-0.12.13.min.css\");\n",
       "      console.log(\"Bokeh: injecting CSS: https://cdn.pydata.org/bokeh/release/bokeh-widgets-0.12.13.min.css\");\n",
       "      Bokeh.embed.inject_css(\"https://cdn.pydata.org/bokeh/release/bokeh-widgets-0.12.13.min.css\");\n",
       "      console.log(\"Bokeh: injecting CSS: https://cdn.pydata.org/bokeh/release/bokeh-tables-0.12.13.min.css\");\n",
       "      Bokeh.embed.inject_css(\"https://cdn.pydata.org/bokeh/release/bokeh-tables-0.12.13.min.css\");\n",
       "    }\n",
       "  ];\n",
       "\n",
       "  function run_inline_js() {\n",
       "    \n",
       "    if ((root.Bokeh !== undefined) || (force === true)) {\n",
       "      for (var i = 0; i < inline_js.length; i++) {\n",
       "        inline_js[i].call(root, root.Bokeh);\n",
       "      }if (force === true) {\n",
       "        display_loaded();\n",
       "      }} else if (Date.now() < root._bokeh_timeout) {\n",
       "      setTimeout(run_inline_js, 100);\n",
       "    } else if (!root._bokeh_failed_load) {\n",
       "      console.log(\"Bokeh: BokehJS failed to load within specified timeout.\");\n",
       "      root._bokeh_failed_load = true;\n",
       "    } else if (force !== true) {\n",
       "      var cell = $(document.getElementById(\"91f11e66-1a95-4228-a424-335a25cd704b\")).parents('.cell').data().cell;\n",
       "      cell.output_area.append_execute_result(NB_LOAD_WARNING)\n",
       "    }\n",
       "\n",
       "  }\n",
       "\n",
       "  if (root._bokeh_is_loading === 0) {\n",
       "    console.log(\"Bokeh: BokehJS loaded, going straight to plotting\");\n",
       "    run_inline_js();\n",
       "  } else {\n",
       "    load_libs(js_urls, function() {\n",
       "      console.log(\"Bokeh: BokehJS plotting callback run at\", now());\n",
       "      run_inline_js();\n",
       "    });\n",
       "  }\n",
       "}(window));"
      ],
      "application/vnd.bokehjs_load.v0+json": "\n(function(root) {\n  function now() {\n    return new Date();\n  }\n\n  var force = true;\n\n  if (typeof (root._bokeh_onload_callbacks) === \"undefined\" || force === true) {\n    root._bokeh_onload_callbacks = [];\n    root._bokeh_is_loading = undefined;\n  }\n\n  \n\n  \n  if (typeof (root._bokeh_timeout) === \"undefined\" || force === true) {\n    root._bokeh_timeout = Date.now() + 5000;\n    root._bokeh_failed_load = false;\n  }\n\n  var NB_LOAD_WARNING = {'data': {'text/html':\n     \"<div style='background-color: #fdd'>\\n\"+\n     \"<p>\\n\"+\n     \"BokehJS does not appear to have successfully loaded. If loading BokehJS from CDN, this \\n\"+\n     \"may be due to a slow or bad network connection. Possible fixes:\\n\"+\n     \"</p>\\n\"+\n     \"<ul>\\n\"+\n     \"<li>re-rerun `output_notebook()` to attempt to load from CDN again, or</li>\\n\"+\n     \"<li>use INLINE resources instead, as so:</li>\\n\"+\n     \"</ul>\\n\"+\n     \"<code>\\n\"+\n     \"from bokeh.resources import INLINE\\n\"+\n     \"output_notebook(resources=INLINE)\\n\"+\n     \"</code>\\n\"+\n     \"</div>\"}};\n\n  function display_loaded() {\n    var el = document.getElementById(\"91f11e66-1a95-4228-a424-335a25cd704b\");\n    if (el != null) {\n      el.textContent = \"BokehJS is loading...\";\n    }\n    if (root.Bokeh !== undefined) {\n      if (el != null) {\n        el.textContent = \"BokehJS \" + root.Bokeh.version + \" successfully loaded.\";\n      }\n    } else if (Date.now() < root._bokeh_timeout) {\n      setTimeout(display_loaded, 100)\n    }\n  }\n\n\n  function run_callbacks() {\n    try {\n      root._bokeh_onload_callbacks.forEach(function(callback) { callback() });\n    }\n    finally {\n      delete root._bokeh_onload_callbacks\n    }\n    console.info(\"Bokeh: all callbacks have finished\");\n  }\n\n  function load_libs(js_urls, callback) {\n    root._bokeh_onload_callbacks.push(callback);\n    if (root._bokeh_is_loading > 0) {\n      console.log(\"Bokeh: BokehJS is being loaded, scheduling callback at\", now());\n      return null;\n    }\n    if (js_urls == null || js_urls.length === 0) {\n      run_callbacks();\n      return null;\n    }\n    console.log(\"Bokeh: BokehJS not loaded, scheduling load and callback at\", now());\n    root._bokeh_is_loading = js_urls.length;\n    for (var i = 0; i < js_urls.length; i++) {\n      var url = js_urls[i];\n      var s = document.createElement('script');\n      s.src = url;\n      s.async = false;\n      s.onreadystatechange = s.onload = function() {\n        root._bokeh_is_loading--;\n        if (root._bokeh_is_loading === 0) {\n          console.log(\"Bokeh: all BokehJS libraries loaded\");\n          run_callbacks()\n        }\n      };\n      s.onerror = function() {\n        console.warn(\"failed to load library \" + url);\n      };\n      console.log(\"Bokeh: injecting script tag for BokehJS library: \", url);\n      document.getElementsByTagName(\"head\")[0].appendChild(s);\n    }\n  };var element = document.getElementById(\"91f11e66-1a95-4228-a424-335a25cd704b\");\n  if (element == null) {\n    console.log(\"Bokeh: ERROR: autoload.js configured with elementid '91f11e66-1a95-4228-a424-335a25cd704b' but no matching script tag was found. \")\n    return false;\n  }\n\n  var js_urls = [\"https://cdn.pydata.org/bokeh/release/bokeh-0.12.13.min.js\", \"https://cdn.pydata.org/bokeh/release/bokeh-widgets-0.12.13.min.js\", \"https://cdn.pydata.org/bokeh/release/bokeh-tables-0.12.13.min.js\", \"https://cdn.pydata.org/bokeh/release/bokeh-gl-0.12.13.min.js\"];\n\n  var inline_js = [\n    function(Bokeh) {\n      Bokeh.set_log_level(\"info\");\n    },\n    \n    function(Bokeh) {\n      \n    },\n    function(Bokeh) {\n      console.log(\"Bokeh: injecting CSS: https://cdn.pydata.org/bokeh/release/bokeh-0.12.13.min.css\");\n      Bokeh.embed.inject_css(\"https://cdn.pydata.org/bokeh/release/bokeh-0.12.13.min.css\");\n      console.log(\"Bokeh: injecting CSS: https://cdn.pydata.org/bokeh/release/bokeh-widgets-0.12.13.min.css\");\n      Bokeh.embed.inject_css(\"https://cdn.pydata.org/bokeh/release/bokeh-widgets-0.12.13.min.css\");\n      console.log(\"Bokeh: injecting CSS: https://cdn.pydata.org/bokeh/release/bokeh-tables-0.12.13.min.css\");\n      Bokeh.embed.inject_css(\"https://cdn.pydata.org/bokeh/release/bokeh-tables-0.12.13.min.css\");\n    }\n  ];\n\n  function run_inline_js() {\n    \n    if ((root.Bokeh !== undefined) || (force === true)) {\n      for (var i = 0; i < inline_js.length; i++) {\n        inline_js[i].call(root, root.Bokeh);\n      }if (force === true) {\n        display_loaded();\n      }} else if (Date.now() < root._bokeh_timeout) {\n      setTimeout(run_inline_js, 100);\n    } else if (!root._bokeh_failed_load) {\n      console.log(\"Bokeh: BokehJS failed to load within specified timeout.\");\n      root._bokeh_failed_load = true;\n    } else if (force !== true) {\n      var cell = $(document.getElementById(\"91f11e66-1a95-4228-a424-335a25cd704b\")).parents('.cell').data().cell;\n      cell.output_area.append_execute_result(NB_LOAD_WARNING)\n    }\n\n  }\n\n  if (root._bokeh_is_loading === 0) {\n    console.log(\"Bokeh: BokehJS loaded, going straight to plotting\");\n    run_inline_js();\n  } else {\n    load_libs(js_urls, function() {\n      console.log(\"Bokeh: BokehJS plotting callback run at\", now());\n      run_inline_js();\n    });\n  }\n}(window));"
     },
     "metadata": {},
     "output_type": "display_data"
    }
   ],
   "source": [
    "bokeh.plotting.output_notebook()"
   ]
  },
  {
   "cell_type": "code",
   "execution_count": 17,
   "metadata": {
    "collapsed": true
   },
   "outputs": [],
   "source": [
    "from bokeh.palettes import Category10_9 as palette"
   ]
  },
  {
   "cell_type": "code",
   "execution_count": 2,
   "metadata": {},
   "outputs": [],
   "source": [
    "import sklearn as sk\n",
    "from sklearn import datasets\n",
    "from sklearn import preprocessing"
   ]
  },
  {
   "cell_type": "code",
   "execution_count": 3,
   "metadata": {},
   "outputs": [],
   "source": [
    "# from sklearn.cross_validation import train_test_split\n",
    "# from the docs, this new version should run code using the preious version\n",
    "from sklearn.model_selection import train_test_split  "
   ]
  },
  {
   "cell_type": "code",
   "execution_count": 4,
   "metadata": {},
   "outputs": [
    {
     "name": "stdout",
     "output_type": "stream",
     "text": [
      "(150, 4) (150,)\n"
     ]
    }
   ],
   "source": [
    "iris = datasets.load_iris()\n",
    "X_iris, y_iris = iris.data, iris.target\n",
    "print(X_iris.shape, y_iris.shape)"
   ]
  },
  {
   "cell_type": "code",
   "execution_count": 5,
   "metadata": {},
   "outputs": [
    {
     "data": {
      "text/plain": [
       "array([0, 0, 0, 0, 0, 0, 0, 0, 0, 0, 0, 0, 0, 0, 0, 0, 0, 0, 0, 0, 0, 0, 0,\n",
       "       0, 0, 0, 0, 0, 0, 0, 0, 0, 0, 0, 0, 0, 0, 0, 0, 0, 0, 0, 0, 0, 0, 0,\n",
       "       0, 0, 0, 0, 1, 1, 1, 1, 1, 1, 1, 1, 1, 1, 1, 1, 1, 1, 1, 1, 1, 1, 1,\n",
       "       1, 1, 1, 1, 1, 1, 1, 1, 1, 1, 1, 1, 1, 1, 1, 1, 1, 1, 1, 1, 1, 1, 1,\n",
       "       1, 1, 1, 1, 1, 1, 1, 1, 2, 2, 2, 2, 2, 2, 2, 2, 2, 2, 2, 2, 2, 2, 2,\n",
       "       2, 2, 2, 2, 2, 2, 2, 2, 2, 2, 2, 2, 2, 2, 2, 2, 2, 2, 2, 2, 2, 2, 2,\n",
       "       2, 2, 2, 2, 2, 2, 2, 2, 2, 2, 2, 2])"
      ]
     },
     "execution_count": 5,
     "metadata": {},
     "output_type": "execute_result"
    }
   ],
   "source": [
    "y_iris"
   ]
  },
  {
   "cell_type": "code",
   "execution_count": 6,
   "metadata": {},
   "outputs": [
    {
     "data": {
      "text/plain": [
       "array([[ 5.1,  3.5,  1.4,  0.2],\n",
       "       [ 4.9,  3. ,  1.4,  0.2],\n",
       "       [ 4.7,  3.2,  1.3,  0.2],\n",
       "       [ 4.6,  3.1,  1.5,  0.2],\n",
       "       [ 5. ,  3.6,  1.4,  0.2],\n",
       "       [ 5.4,  3.9,  1.7,  0.4],\n",
       "       [ 4.6,  3.4,  1.4,  0.3],\n",
       "       [ 5. ,  3.4,  1.5,  0.2],\n",
       "       [ 4.4,  2.9,  1.4,  0.2],\n",
       "       [ 4.9,  3.1,  1.5,  0.1],\n",
       "       [ 5.4,  3.7,  1.5,  0.2],\n",
       "       [ 4.8,  3.4,  1.6,  0.2],\n",
       "       [ 4.8,  3. ,  1.4,  0.1],\n",
       "       [ 4.3,  3. ,  1.1,  0.1],\n",
       "       [ 5.8,  4. ,  1.2,  0.2],\n",
       "       [ 5.7,  4.4,  1.5,  0.4],\n",
       "       [ 5.4,  3.9,  1.3,  0.4],\n",
       "       [ 5.1,  3.5,  1.4,  0.3],\n",
       "       [ 5.7,  3.8,  1.7,  0.3],\n",
       "       [ 5.1,  3.8,  1.5,  0.3],\n",
       "       [ 5.4,  3.4,  1.7,  0.2],\n",
       "       [ 5.1,  3.7,  1.5,  0.4],\n",
       "       [ 4.6,  3.6,  1. ,  0.2],\n",
       "       [ 5.1,  3.3,  1.7,  0.5],\n",
       "       [ 4.8,  3.4,  1.9,  0.2],\n",
       "       [ 5. ,  3. ,  1.6,  0.2],\n",
       "       [ 5. ,  3.4,  1.6,  0.4],\n",
       "       [ 5.2,  3.5,  1.5,  0.2],\n",
       "       [ 5.2,  3.4,  1.4,  0.2],\n",
       "       [ 4.7,  3.2,  1.6,  0.2],\n",
       "       [ 4.8,  3.1,  1.6,  0.2],\n",
       "       [ 5.4,  3.4,  1.5,  0.4],\n",
       "       [ 5.2,  4.1,  1.5,  0.1],\n",
       "       [ 5.5,  4.2,  1.4,  0.2],\n",
       "       [ 4.9,  3.1,  1.5,  0.1],\n",
       "       [ 5. ,  3.2,  1.2,  0.2],\n",
       "       [ 5.5,  3.5,  1.3,  0.2],\n",
       "       [ 4.9,  3.1,  1.5,  0.1],\n",
       "       [ 4.4,  3. ,  1.3,  0.2],\n",
       "       [ 5.1,  3.4,  1.5,  0.2],\n",
       "       [ 5. ,  3.5,  1.3,  0.3],\n",
       "       [ 4.5,  2.3,  1.3,  0.3],\n",
       "       [ 4.4,  3.2,  1.3,  0.2],\n",
       "       [ 5. ,  3.5,  1.6,  0.6],\n",
       "       [ 5.1,  3.8,  1.9,  0.4],\n",
       "       [ 4.8,  3. ,  1.4,  0.3],\n",
       "       [ 5.1,  3.8,  1.6,  0.2],\n",
       "       [ 4.6,  3.2,  1.4,  0.2],\n",
       "       [ 5.3,  3.7,  1.5,  0.2],\n",
       "       [ 5. ,  3.3,  1.4,  0.2],\n",
       "       [ 7. ,  3.2,  4.7,  1.4],\n",
       "       [ 6.4,  3.2,  4.5,  1.5],\n",
       "       [ 6.9,  3.1,  4.9,  1.5],\n",
       "       [ 5.5,  2.3,  4. ,  1.3],\n",
       "       [ 6.5,  2.8,  4.6,  1.5],\n",
       "       [ 5.7,  2.8,  4.5,  1.3],\n",
       "       [ 6.3,  3.3,  4.7,  1.6],\n",
       "       [ 4.9,  2.4,  3.3,  1. ],\n",
       "       [ 6.6,  2.9,  4.6,  1.3],\n",
       "       [ 5.2,  2.7,  3.9,  1.4],\n",
       "       [ 5. ,  2. ,  3.5,  1. ],\n",
       "       [ 5.9,  3. ,  4.2,  1.5],\n",
       "       [ 6. ,  2.2,  4. ,  1. ],\n",
       "       [ 6.1,  2.9,  4.7,  1.4],\n",
       "       [ 5.6,  2.9,  3.6,  1.3],\n",
       "       [ 6.7,  3.1,  4.4,  1.4],\n",
       "       [ 5.6,  3. ,  4.5,  1.5],\n",
       "       [ 5.8,  2.7,  4.1,  1. ],\n",
       "       [ 6.2,  2.2,  4.5,  1.5],\n",
       "       [ 5.6,  2.5,  3.9,  1.1],\n",
       "       [ 5.9,  3.2,  4.8,  1.8],\n",
       "       [ 6.1,  2.8,  4. ,  1.3],\n",
       "       [ 6.3,  2.5,  4.9,  1.5],\n",
       "       [ 6.1,  2.8,  4.7,  1.2],\n",
       "       [ 6.4,  2.9,  4.3,  1.3],\n",
       "       [ 6.6,  3. ,  4.4,  1.4],\n",
       "       [ 6.8,  2.8,  4.8,  1.4],\n",
       "       [ 6.7,  3. ,  5. ,  1.7],\n",
       "       [ 6. ,  2.9,  4.5,  1.5],\n",
       "       [ 5.7,  2.6,  3.5,  1. ],\n",
       "       [ 5.5,  2.4,  3.8,  1.1],\n",
       "       [ 5.5,  2.4,  3.7,  1. ],\n",
       "       [ 5.8,  2.7,  3.9,  1.2],\n",
       "       [ 6. ,  2.7,  5.1,  1.6],\n",
       "       [ 5.4,  3. ,  4.5,  1.5],\n",
       "       [ 6. ,  3.4,  4.5,  1.6],\n",
       "       [ 6.7,  3.1,  4.7,  1.5],\n",
       "       [ 6.3,  2.3,  4.4,  1.3],\n",
       "       [ 5.6,  3. ,  4.1,  1.3],\n",
       "       [ 5.5,  2.5,  4. ,  1.3],\n",
       "       [ 5.5,  2.6,  4.4,  1.2],\n",
       "       [ 6.1,  3. ,  4.6,  1.4],\n",
       "       [ 5.8,  2.6,  4. ,  1.2],\n",
       "       [ 5. ,  2.3,  3.3,  1. ],\n",
       "       [ 5.6,  2.7,  4.2,  1.3],\n",
       "       [ 5.7,  3. ,  4.2,  1.2],\n",
       "       [ 5.7,  2.9,  4.2,  1.3],\n",
       "       [ 6.2,  2.9,  4.3,  1.3],\n",
       "       [ 5.1,  2.5,  3. ,  1.1],\n",
       "       [ 5.7,  2.8,  4.1,  1.3],\n",
       "       [ 6.3,  3.3,  6. ,  2.5],\n",
       "       [ 5.8,  2.7,  5.1,  1.9],\n",
       "       [ 7.1,  3. ,  5.9,  2.1],\n",
       "       [ 6.3,  2.9,  5.6,  1.8],\n",
       "       [ 6.5,  3. ,  5.8,  2.2],\n",
       "       [ 7.6,  3. ,  6.6,  2.1],\n",
       "       [ 4.9,  2.5,  4.5,  1.7],\n",
       "       [ 7.3,  2.9,  6.3,  1.8],\n",
       "       [ 6.7,  2.5,  5.8,  1.8],\n",
       "       [ 7.2,  3.6,  6.1,  2.5],\n",
       "       [ 6.5,  3.2,  5.1,  2. ],\n",
       "       [ 6.4,  2.7,  5.3,  1.9],\n",
       "       [ 6.8,  3. ,  5.5,  2.1],\n",
       "       [ 5.7,  2.5,  5. ,  2. ],\n",
       "       [ 5.8,  2.8,  5.1,  2.4],\n",
       "       [ 6.4,  3.2,  5.3,  2.3],\n",
       "       [ 6.5,  3. ,  5.5,  1.8],\n",
       "       [ 7.7,  3.8,  6.7,  2.2],\n",
       "       [ 7.7,  2.6,  6.9,  2.3],\n",
       "       [ 6. ,  2.2,  5. ,  1.5],\n",
       "       [ 6.9,  3.2,  5.7,  2.3],\n",
       "       [ 5.6,  2.8,  4.9,  2. ],\n",
       "       [ 7.7,  2.8,  6.7,  2. ],\n",
       "       [ 6.3,  2.7,  4.9,  1.8],\n",
       "       [ 6.7,  3.3,  5.7,  2.1],\n",
       "       [ 7.2,  3.2,  6. ,  1.8],\n",
       "       [ 6.2,  2.8,  4.8,  1.8],\n",
       "       [ 6.1,  3. ,  4.9,  1.8],\n",
       "       [ 6.4,  2.8,  5.6,  2.1],\n",
       "       [ 7.2,  3. ,  5.8,  1.6],\n",
       "       [ 7.4,  2.8,  6.1,  1.9],\n",
       "       [ 7.9,  3.8,  6.4,  2. ],\n",
       "       [ 6.4,  2.8,  5.6,  2.2],\n",
       "       [ 6.3,  2.8,  5.1,  1.5],\n",
       "       [ 6.1,  2.6,  5.6,  1.4],\n",
       "       [ 7.7,  3. ,  6.1,  2.3],\n",
       "       [ 6.3,  3.4,  5.6,  2.4],\n",
       "       [ 6.4,  3.1,  5.5,  1.8],\n",
       "       [ 6. ,  3. ,  4.8,  1.8],\n",
       "       [ 6.9,  3.1,  5.4,  2.1],\n",
       "       [ 6.7,  3.1,  5.6,  2.4],\n",
       "       [ 6.9,  3.1,  5.1,  2.3],\n",
       "       [ 5.8,  2.7,  5.1,  1.9],\n",
       "       [ 6.8,  3.2,  5.9,  2.3],\n",
       "       [ 6.7,  3.3,  5.7,  2.5],\n",
       "       [ 6.7,  3. ,  5.2,  2.3],\n",
       "       [ 6.3,  2.5,  5. ,  1.9],\n",
       "       [ 6.5,  3. ,  5.2,  2. ],\n",
       "       [ 6.2,  3.4,  5.4,  2.3],\n",
       "       [ 5.9,  3. ,  5.1,  1.8]])"
      ]
     },
     "execution_count": 6,
     "metadata": {},
     "output_type": "execute_result"
    }
   ],
   "source": [
    "X_iris"
   ]
  },
  {
   "cell_type": "code",
   "execution_count": 19,
   "metadata": {
    "collapsed": true
   },
   "outputs": [],
   "source": [
    "X, y = X_iris[:, :2], y_iris\n",
    "X_train, X_test, y_train, y_test = train_test_split(\n",
    "    X, y, test_size = 0.25, random_state=33)"
   ]
  },
  {
   "cell_type": "code",
   "execution_count": 20,
   "metadata": {},
   "outputs": [
    {
     "name": "stdout",
     "output_type": "stream",
     "text": [
      "(112, 2) (112,)\n"
     ]
    }
   ],
   "source": [
    "print(X_train.shape, y_train.shape)"
   ]
  },
  {
   "cell_type": "markdown",
   "metadata": {},
   "source": [
    "Standardize the features"
   ]
  },
  {
   "cell_type": "code",
   "execution_count": 21,
   "metadata": {},
   "outputs": [],
   "source": [
    "scaler = preprocessing.StandardScaler().fit(X_train)\n",
    "X_train = scaler.transform(X_train)\n",
    "X_test = scaler.transform(X_test)"
   ]
  },
  {
   "cell_type": "code",
   "execution_count": 33,
   "metadata": {
    "scrolled": true
   },
   "outputs": [
    {
     "data": {
      "text/html": [
       "\n",
       "<div class=\"bk-root\">\n",
       "    <div class=\"bk-plotdiv\" id=\"a93f4470-fd64-4cc2-80c4-7f9a009f2847\"></div>\n",
       "</div>"
      ]
     },
     "metadata": {},
     "output_type": "display_data"
    },
    {
     "data": {
      "application/javascript": [
       "(function(root) {\n",
       "  function embed_document(root) {\n",
       "    \n",
       "  var docs_json = {\"c66667e3-0945-4150-8846-10701abae955\":{\"roots\":{\"references\":[{\"attributes\":{},\"id\":\"0877e289-8524-455e-ac29-ad5e48978ffa\",\"type\":\"LinearScale\"},{\"attributes\":{\"callback\":null,\"column_names\":[\"x\",\"y\"],\"data\":{\"x\":{\"__ndarray__\":\"+wbUfgZv8L+87+MA6yb0vx/k60HdAva/Xvvbv/hK8r98PIj5Q27pv3w8iPlDbum/ZgSx5iyN3L/7BtR+Bm/wv33Y84LP3ve/3Mz7w8G6+b84JZh7KCbtvzglmHsoJu2/fDyI+UNu6b98PIj5Q27pvz/BAwW0lvu/fDyI+UNu6b/czPvDwbr5v3w8iPlDbum/OCWYeygm7b+2U3h3X7blvzIZ5JxyH5M/mj9GaUf3uL8f5OtB3QL2v+wykeJjHdW/OCWYeygm7b/7BtR+Bm/wv17727/4SvK/OCWYeygm7b/5amj1ev7hv7ZTeHdftuW/OCWYeygm7b8f5OtB3QL2vx/k60HdAva/ZgSx5iyN3L84JZh7KCbtv3w8iPlDbum/ZgSx5iyN3L9mBLHmLI3cv+wykeJjHdW/OCWYeygm7b9e+9u/+Eryv2YEseYsjdy/\",\"dtype\":\"float64\",\"shape\":[42]},\"y\":{\"__ndarray__\":\"12o43AQsuD/fA+adS5TTPxHryjVwU+c/EevKNXBT5z8R68o1cFPnP2dkB+iv0PU/+FhzG1WV/D/XajjcBCy4P6FL7H/Uj/m/nbehlpMH1b8dalFOXW7yP6XfNmkVGO4/rl69gQIz+T+uXr2BAjP5P885J78k+b2/pd82aRUY7j/fA+adS5TTP65evYECM/k/pd82aRUY7j8R68o1cFPnP0JTKbWn9/8/Np4ADnnABkDfA+adS5TTP6XfNmkVGO4/fPZeAsuO4D/POSe/JPm9v9dqONwELLg/zzknvyT5vb9nZAfor9D1P8Smbyf9rAFAEevKNXBT5z8dalFOXW7yP9dqONwELLg/Z2QH6K/Q9T8R68o1cFPnP3z2XgLLjuA/+FhzG1WV/D8R68o1cFPnP+yjSnQmXgNA3wPmnUuU0z/POSe/JPm9vxHryjVwU+c/\",\"dtype\":\"float64\",\"shape\":[42]}}},\"id\":\"863f4332-4fd5-4457-ad0b-adea84670d53\",\"type\":\"ColumnDataSource\"},{\"attributes\":{\"source\":{\"id\":\"863f4332-4fd5-4457-ad0b-adea84670d53\",\"type\":\"ColumnDataSource\"}},\"id\":\"0346c9ed-59c4-4050-8c10-1106c74ec0ae\",\"type\":\"CDSView\"},{\"attributes\":{\"fill_color\":{\"value\":\"greenyellow\"},\"line_color\":{\"value\":\"greenyellow\"},\"x\":{\"field\":\"x\"},\"y\":{\"field\":\"y\"}},\"id\":\"0d53d1b2-22dc-4011-8f1f-bd5dd33fb205\",\"type\":\"Circle\"},{\"attributes\":{\"axis_label\":\"Sepal length\",\"formatter\":{\"id\":\"8efb943a-5af7-4a0b-8f01-cc38e35e751c\",\"type\":\"BasicTickFormatter\"},\"plot\":{\"id\":\"9ded6e9e-674c-4506-bac8-cdb3e20b6397\",\"subtype\":\"Figure\",\"type\":\"Plot\"},\"ticker\":{\"id\":\"7c55fc93-1a31-4a6e-bbcd-96b926f641a2\",\"type\":\"BasicTicker\"}},\"id\":\"9eb8427c-99dc-48f9-8ebd-dd0f819df9ea\",\"type\":\"LinearAxis\"},{\"attributes\":{},\"id\":\"8efb943a-5af7-4a0b-8f01-cc38e35e751c\",\"type\":\"BasicTickFormatter\"},{\"attributes\":{},\"id\":\"0cadcada-adb9-4cf4-9f61-b7aae883bdc2\",\"type\":\"BasicTicker\"},{\"attributes\":{\"label\":{\"value\":\"versicolor\"},\"renderers\":[{\"id\":\"301c26fd-1665-40d9-a5b0-9ebda2e32525\",\"type\":\"GlyphRenderer\"}]},\"id\":\"59480e45-046e-4887-a2f4-4b29bf63d3ae\",\"type\":\"LegendItem\"},{\"attributes\":{\"data_source\":{\"id\":\"863f4332-4fd5-4457-ad0b-adea84670d53\",\"type\":\"ColumnDataSource\"},\"glyph\":{\"id\":\"fd87f784-9870-4895-89f0-b977dc595dff\",\"type\":\"Circle\"},\"hover_glyph\":null,\"muted_glyph\":null,\"nonselection_glyph\":{\"id\":\"cf3a678c-fc0b-4aec-927b-6234486d2784\",\"type\":\"Circle\"},\"selection_glyph\":null,\"view\":{\"id\":\"0346c9ed-59c4-4050-8c10-1106c74ec0ae\",\"type\":\"CDSView\"}},\"id\":\"22696ee7-84b6-44b6-9391-ca85c8499c37\",\"type\":\"GlyphRenderer\"},{\"attributes\":{\"callback\":null},\"id\":\"6574f25d-8217-4bdc-baa2-9687fea91b45\",\"type\":\"DataRange1d\"},{\"attributes\":{\"plot\":null,\"text\":\"Simple Linear \"},\"id\":\"7d3f68b9-6283-4e87-80c3-57d00bc0b4a2\",\"type\":\"Title\"},{\"attributes\":{\"dimension\":1,\"plot\":{\"id\":\"9ded6e9e-674c-4506-bac8-cdb3e20b6397\",\"subtype\":\"Figure\",\"type\":\"Plot\"},\"ticker\":{\"id\":\"0cadcada-adb9-4cf4-9f61-b7aae883bdc2\",\"type\":\"BasicTicker\"}},\"id\":\"6b16391c-504c-4e78-8359-fdf65fb96b27\",\"type\":\"Grid\"},{\"attributes\":{},\"id\":\"90c5e734-57b6-415b-845a-1aebdbca679c\",\"type\":\"LinearScale\"},{\"attributes\":{\"fill_alpha\":{\"value\":0.1},\"fill_color\":{\"value\":\"#1f77b4\"},\"line_alpha\":{\"value\":0.1},\"line_color\":{\"value\":\"#1f77b4\"},\"x\":{\"field\":\"x\"},\"y\":{\"field\":\"y\"}},\"id\":\"cf3a678c-fc0b-4aec-927b-6234486d2784\",\"type\":\"Circle\"},{\"attributes\":{},\"id\":\"7c55fc93-1a31-4a6e-bbcd-96b926f641a2\",\"type\":\"BasicTicker\"},{\"attributes\":{\"active_drag\":\"auto\",\"active_inspect\":\"auto\",\"active_scroll\":\"auto\",\"active_tap\":\"auto\",\"tools\":[{\"id\":\"a944240a-a2b5-42b6-a8ff-215e4211a509\",\"type\":\"PanTool\"},{\"id\":\"295e0e10-b650-4876-ab17-c69b8958da7d\",\"type\":\"WheelZoomTool\"},{\"id\":\"718b34e6-bc5c-4b21-88e8-805668669718\",\"type\":\"BoxZoomTool\"},{\"id\":\"7972e641-1b2d-4add-84c4-f60896c1b173\",\"type\":\"SaveTool\"},{\"id\":\"f3804adc-c4ea-44c5-b394-cff796b5ca8d\",\"type\":\"ResetTool\"},{\"id\":\"3ffdf2fe-2516-4fb3-be8c-e3d32971ecfb\",\"type\":\"HelpTool\"}]},\"id\":\"23303e4f-e9d6-42db-9a77-c2abd027f5d4\",\"type\":\"Toolbar\"},{\"attributes\":{\"label\":{\"value\":\"virginica\"},\"renderers\":[{\"id\":\"b5a4c9a2-d75e-4464-bb14-ca64abb60424\",\"type\":\"GlyphRenderer\"}]},\"id\":\"153f2028-b90c-4e31-b0d7-9d7abb44d130\",\"type\":\"LegendItem\"},{\"attributes\":{\"plot\":{\"id\":\"9ded6e9e-674c-4506-bac8-cdb3e20b6397\",\"subtype\":\"Figure\",\"type\":\"Plot\"},\"ticker\":{\"id\":\"7c55fc93-1a31-4a6e-bbcd-96b926f641a2\",\"type\":\"BasicTicker\"}},\"id\":\"d02173d0-19a1-467c-b16e-3b748a72bd35\",\"type\":\"Grid\"},{\"attributes\":{\"axis_label\":\"Sepal width\",\"formatter\":{\"id\":\"501b8c5d-901f-49cb-8ded-e22a6fd7bed6\",\"type\":\"BasicTickFormatter\"},\"plot\":{\"id\":\"9ded6e9e-674c-4506-bac8-cdb3e20b6397\",\"subtype\":\"Figure\",\"type\":\"Plot\"},\"ticker\":{\"id\":\"0cadcada-adb9-4cf4-9f61-b7aae883bdc2\",\"type\":\"BasicTicker\"}},\"id\":\"e246b647-8e1f-4fa4-b2ae-2576ef4e38a7\",\"type\":\"LinearAxis\"},{\"attributes\":{\"below\":[{\"id\":\"9eb8427c-99dc-48f9-8ebd-dd0f819df9ea\",\"type\":\"LinearAxis\"}],\"left\":[{\"id\":\"e246b647-8e1f-4fa4-b2ae-2576ef4e38a7\",\"type\":\"LinearAxis\"}],\"plot_height\":350,\"plot_width\":400,\"renderers\":[{\"id\":\"9eb8427c-99dc-48f9-8ebd-dd0f819df9ea\",\"type\":\"LinearAxis\"},{\"id\":\"d02173d0-19a1-467c-b16e-3b748a72bd35\",\"type\":\"Grid\"},{\"id\":\"e246b647-8e1f-4fa4-b2ae-2576ef4e38a7\",\"type\":\"LinearAxis\"},{\"id\":\"6b16391c-504c-4e78-8359-fdf65fb96b27\",\"type\":\"Grid\"},{\"id\":\"51e79d74-e881-4117-b445-f1f27fbe409e\",\"type\":\"BoxAnnotation\"},{\"id\":\"4c5d7aea-183d-4f53-b9fe-f122a9bb7ef1\",\"type\":\"Legend\"},{\"id\":\"22696ee7-84b6-44b6-9391-ca85c8499c37\",\"type\":\"GlyphRenderer\"},{\"id\":\"301c26fd-1665-40d9-a5b0-9ebda2e32525\",\"type\":\"GlyphRenderer\"},{\"id\":\"b5a4c9a2-d75e-4464-bb14-ca64abb60424\",\"type\":\"GlyphRenderer\"}],\"title\":{\"id\":\"7d3f68b9-6283-4e87-80c3-57d00bc0b4a2\",\"type\":\"Title\"},\"toolbar\":{\"id\":\"23303e4f-e9d6-42db-9a77-c2abd027f5d4\",\"type\":\"Toolbar\"},\"x_range\":{\"id\":\"6574f25d-8217-4bdc-baa2-9687fea91b45\",\"type\":\"DataRange1d\"},\"x_scale\":{\"id\":\"0877e289-8524-455e-ac29-ad5e48978ffa\",\"type\":\"LinearScale\"},\"y_range\":{\"id\":\"6fd12148-1b59-48a3-a3c5-96e8d5600d8d\",\"type\":\"DataRange1d\"},\"y_scale\":{\"id\":\"90c5e734-57b6-415b-845a-1aebdbca679c\",\"type\":\"LinearScale\"}},\"id\":\"9ded6e9e-674c-4506-bac8-cdb3e20b6397\",\"subtype\":\"Figure\",\"type\":\"Plot\"},{\"attributes\":{\"bottom_units\":\"screen\",\"fill_alpha\":{\"value\":0.5},\"fill_color\":{\"value\":\"lightgrey\"},\"left_units\":\"screen\",\"level\":\"overlay\",\"line_alpha\":{\"value\":1.0},\"line_color\":{\"value\":\"black\"},\"line_dash\":[4,4],\"line_width\":{\"value\":2},\"plot\":null,\"render_mode\":\"css\",\"right_units\":\"screen\",\"top_units\":\"screen\"},\"id\":\"51e79d74-e881-4117-b445-f1f27fbe409e\",\"type\":\"BoxAnnotation\"},{\"attributes\":{},\"id\":\"7972e641-1b2d-4add-84c4-f60896c1b173\",\"type\":\"SaveTool\"},{\"attributes\":{\"callback\":null,\"column_names\":[\"x\",\"y\"],\"data\":{\"x\":{\"__ndarray__\":\"OCWYeygm7b+MrDYfcjDjPzIZ5JxyH5M/n4dNOhvx3j98PIj5Q27pv+XC4rw1W8u/6QTT1tib9j/sMpHiYx3Vvz8m3FuAQ8E/meQNMokR0D+fh006G/HePyccw1T04/I/tlN4d1+25b/lwuK8NVvLv8xmZqUfWO4/jKw2H3Iw4z9SlUahVujmP5o/RmlH97i/meQNMokR0D84JZh7KCbtv8xmZqUfWO4/mj9GaUf3uL/sMpHiYx3Vv+wykeJjHdW/meQNMokR0D+KEMuV5r/0P+wykeJjHdW/MhnknHIfkz8yGeScch+TP5nkDTKJEdA/mj9GaUf3uL8Sti02UoHXP+XC4rw1W8u/ZgSx5iyN3L/sMpHiYx3Vv8knuxMCCPE/PybcW4BDwT/7BtR+Bm/wv+XC4rw1W8u/\",\"dtype\":\"float64\",\"shape\":[39]},\"y\":{\"__ndarray__\":\"oUvsf9SP+b+hS+x/1I/5v4S5lGW50e6/nbehlpMH1b8NV4BML8vyv523oZaTB9W/3wPmnUuU0z8NV4BML8vyv98D5p1LlNM/EevKNXBT5z/nRaIZJ/L8v2PQvP5uSOG/8MQoMhQN6L8NV4BML8vyv523oZaTB9W/DVeATC/L8r/fA+adS5TTP4S5lGW50e6/50WiGSfy/L8+HYcmZtsBwM85J78k+b2/Y9C8/m5I4b+EuZRludHuv6FL7H/Uj/m/nbehlpMH1b/XajjcBCy4P1dRNuaBLfa/8MQoMhQN6L/wxCgyFA3ov/DEKDIUDei/Y9C8/m5I4b9j0Lz+bkjhv885J78k+b2/zzknvyT5vb9XUTbmgS32v885J78k+b2/zzknvyT5vb9XUTbmgS32v885J78k+b2/\",\"dtype\":\"float64\",\"shape\":[39]}}},\"id\":\"196d3c74-e8d2-4bda-9254-ca55d3e95a00\",\"type\":\"ColumnDataSource\"},{\"attributes\":{\"callback\":null},\"id\":\"6fd12148-1b59-48a3-a3c5-96e8d5600d8d\",\"type\":\"DataRange1d\"},{\"attributes\":{\"data_source\":{\"id\":\"196d3c74-e8d2-4bda-9254-ca55d3e95a00\",\"type\":\"ColumnDataSource\"},\"glyph\":{\"id\":\"0d53d1b2-22dc-4011-8f1f-bd5dd33fb205\",\"type\":\"Circle\"},\"hover_glyph\":null,\"muted_glyph\":null,\"nonselection_glyph\":{\"id\":\"bbb10353-f921-4b6d-bde8-98bd653b52b2\",\"type\":\"Circle\"},\"selection_glyph\":null,\"view\":{\"id\":\"66eff637-885b-4f8d-bd9d-0fe7e2dc76f5\",\"type\":\"CDSView\"}},\"id\":\"301c26fd-1665-40d9-a5b0-9ebda2e32525\",\"type\":\"GlyphRenderer\"},{\"attributes\":{},\"id\":\"3ffdf2fe-2516-4fb3-be8c-e3d32971ecfb\",\"type\":\"HelpTool\"},{\"attributes\":{\"items\":[{\"id\":\"bf8b106b-4cfe-4061-b61c-0e033e6cea85\",\"type\":\"LegendItem\"},{\"id\":\"59480e45-046e-4887-a2f4-4b29bf63d3ae\",\"type\":\"LegendItem\"},{\"id\":\"153f2028-b90c-4e31-b0d7-9d7abb44d130\",\"type\":\"LegendItem\"}],\"plot\":{\"id\":\"9ded6e9e-674c-4506-bac8-cdb3e20b6397\",\"subtype\":\"Figure\",\"type\":\"Plot\"}},\"id\":\"4c5d7aea-183d-4f53-b9fe-f122a9bb7ef1\",\"type\":\"Legend\"},{\"attributes\":{\"callback\":null,\"column_names\":[\"x\",\"y\"],\"data\":{\"x\":{\"__ndarray__\":\"Jk4NkK6rA0APflYjO6DqPzIZ5JxyH5M/xlkFT7zPAUCMrDYfcjDjP6rt4li9U/o/bNby2qEL/j8nHMNU9OPyP1KVRqFW6OY/mj9GaUf3uL8Sti02UoHXP1KVRqFW6OY/qu3iWL1T+j+UX4Euw+EAQA9+ViM7oOo/jKw2H3Iw4z9SlUahVujmP4oQy5Xmv/Q/jKw2H3Iw4z/JJ7sTAgjxP8ZZBU+8zwFACOLqma8v/D/JJ7sTAgjxP8knuxMCCPE/+wbUfgZv8L+fh006G/HeP8ZZBU+8zwFAMhnknHIfkz9H+doXy3f4P4ysNh9yMOM/xlkFT7zPAUA=\",\"dtype\":\"float64\",\"shape\":[31]},\"y\":{\"__ndarray__\":\"rl69gQIz+T/POSe/JPm9v2PQvP5uSOG/hLmUZbnR7r9j0Lz+bkjhv885J78k+b2/Y9C8/m5I4b/POSe/JPm9v2PQvP5uSOG/DVeATC/L8r/POSe/JPm9v2PQvP5uSOG/HWpRTl1u8j/POSe/JPm9v98D5p1LlNM/8MQoMhQN6L/wxCgyFA3ov9dqONwELLg/nbehlpMH1b8NV4BML8vyv65evYECM/k/nbehlpMH1b989l4Cy47gP3z2XgLLjuA/DVeATC/L8r8R68o1cFPnP2PQvP5uSOG/8MQoMhQN6L/POSe/JPm9vw1XgEwvy/K/zzknvyT5vb8=\",\"dtype\":\"float64\",\"shape\":[31]}}},\"id\":\"62a7d5cd-c22c-4cb5-86a3-98a4895e5887\",\"type\":\"ColumnDataSource\"},{\"attributes\":{},\"id\":\"501b8c5d-901f-49cb-8ded-e22a6fd7bed6\",\"type\":\"BasicTickFormatter\"},{\"attributes\":{\"fill_color\":{\"value\":\"red\"},\"line_color\":{\"value\":\"red\"},\"x\":{\"field\":\"x\"},\"y\":{\"field\":\"y\"}},\"id\":\"fd87f784-9870-4895-89f0-b977dc595dff\",\"type\":\"Circle\"},{\"attributes\":{},\"id\":\"295e0e10-b650-4876-ab17-c69b8958da7d\",\"type\":\"WheelZoomTool\"},{\"attributes\":{\"data_source\":{\"id\":\"62a7d5cd-c22c-4cb5-86a3-98a4895e5887\",\"type\":\"ColumnDataSource\"},\"glyph\":{\"id\":\"c1d723ca-29b7-4846-ad2a-c6a4520a57a6\",\"type\":\"Circle\"},\"hover_glyph\":null,\"muted_glyph\":null,\"nonselection_glyph\":{\"id\":\"8341579b-d7a2-4641-acbc-6a618151241c\",\"type\":\"Circle\"},\"selection_glyph\":null,\"view\":{\"id\":\"4b1e2e56-bc53-4b89-ae6d-44bd728434cb\",\"type\":\"CDSView\"}},\"id\":\"b5a4c9a2-d75e-4464-bb14-ca64abb60424\",\"type\":\"GlyphRenderer\"},{\"attributes\":{\"label\":{\"value\":\"setosa\"},\"renderers\":[{\"id\":\"22696ee7-84b6-44b6-9391-ca85c8499c37\",\"type\":\"GlyphRenderer\"}]},\"id\":\"bf8b106b-4cfe-4061-b61c-0e033e6cea85\",\"type\":\"LegendItem\"},{\"attributes\":{\"fill_alpha\":{\"value\":0.1},\"fill_color\":{\"value\":\"#1f77b4\"},\"line_alpha\":{\"value\":0.1},\"line_color\":{\"value\":\"#1f77b4\"},\"x\":{\"field\":\"x\"},\"y\":{\"field\":\"y\"}},\"id\":\"8341579b-d7a2-4641-acbc-6a618151241c\",\"type\":\"Circle\"},{\"attributes\":{},\"id\":\"f3804adc-c4ea-44c5-b394-cff796b5ca8d\",\"type\":\"ResetTool\"},{\"attributes\":{\"overlay\":{\"id\":\"51e79d74-e881-4117-b445-f1f27fbe409e\",\"type\":\"BoxAnnotation\"}},\"id\":\"718b34e6-bc5c-4b21-88e8-805668669718\",\"type\":\"BoxZoomTool\"},{\"attributes\":{\"fill_alpha\":{\"value\":0.1},\"fill_color\":{\"value\":\"#1f77b4\"},\"line_alpha\":{\"value\":0.1},\"line_color\":{\"value\":\"#1f77b4\"},\"x\":{\"field\":\"x\"},\"y\":{\"field\":\"y\"}},\"id\":\"bbb10353-f921-4b6d-bde8-98bd653b52b2\",\"type\":\"Circle\"},{\"attributes\":{},\"id\":\"a944240a-a2b5-42b6-a8ff-215e4211a509\",\"type\":\"PanTool\"},{\"attributes\":{\"fill_color\":{\"value\":\"blue\"},\"line_color\":{\"value\":\"blue\"},\"x\":{\"field\":\"x\"},\"y\":{\"field\":\"y\"}},\"id\":\"c1d723ca-29b7-4846-ad2a-c6a4520a57a6\",\"type\":\"Circle\"},{\"attributes\":{\"source\":{\"id\":\"196d3c74-e8d2-4bda-9254-ca55d3e95a00\",\"type\":\"ColumnDataSource\"}},\"id\":\"66eff637-885b-4f8d-bd9d-0fe7e2dc76f5\",\"type\":\"CDSView\"},{\"attributes\":{\"source\":{\"id\":\"62a7d5cd-c22c-4cb5-86a3-98a4895e5887\",\"type\":\"ColumnDataSource\"}},\"id\":\"4b1e2e56-bc53-4b89-ae6d-44bd728434cb\",\"type\":\"CDSView\"}],\"root_ids\":[\"9ded6e9e-674c-4506-bac8-cdb3e20b6397\"]},\"title\":\"Bokeh Application\",\"version\":\"0.12.13\"}};\n",
       "  var render_items = [{\"docid\":\"c66667e3-0945-4150-8846-10701abae955\",\"elementid\":\"a93f4470-fd64-4cc2-80c4-7f9a009f2847\",\"modelid\":\"9ded6e9e-674c-4506-bac8-cdb3e20b6397\"}];\n",
       "  root.Bokeh.embed.embed_items_notebook(docs_json, render_items);\n",
       "\n",
       "  }\n",
       "  if (root.Bokeh !== undefined) {\n",
       "    embed_document(root);\n",
       "  } else {\n",
       "    var attempts = 0;\n",
       "    var timer = setInterval(function(root) {\n",
       "      if (root.Bokeh !== undefined) {\n",
       "        embed_document(root);\n",
       "        clearInterval(timer);\n",
       "      }\n",
       "      attempts++;\n",
       "      if (attempts > 100) {\n",
       "        console.log(\"Bokeh: ERROR: Unable to run BokehJS code because BokehJS library is missing\")\n",
       "        clearInterval(timer);\n",
       "      }\n",
       "    }, 10, root)\n",
       "  }\n",
       "})(window);"
      ],
      "application/vnd.bokehjs_exec.v0+json": ""
     },
     "metadata": {
      "application/vnd.bokehjs_exec.v0+json": {
       "id": "9ded6e9e-674c-4506-bac8-cdb3e20b6397"
      }
     },
     "output_type": "display_data"
    }
   ],
   "source": [
    "colors = ['red', 'greenyellow', 'blue']\n",
    "p = bokeh.plotting.figure(\n",
    "    title='Iris',\n",
    "    x_axis_label='Sepal length',\n",
    "    y_axis_label='Sepal width',\n",
    "    width=400, height=350,\n",
    ")\n",
    "\n",
    "for i in set(y_train):\n",
    "    mask = y_train == i\n",
    "    xs = X_train[:, 0][mask]\n",
    "    ys = X_train[:, 1][mask]\n",
    "    p.circle(xs, ys, color=colors[i], \n",
    "             legend=iris.target_names[i])\n",
    "\n",
    "bokeh.plotting.show(p)"
   ]
  },
  {
   "cell_type": "markdown",
   "metadata": {},
   "source": [
    "Create a linear classification model that identifies setosa/not-setosa flowers."
   ]
  },
  {
   "cell_type": "code",
   "execution_count": 34,
   "metadata": {
    "collapsed": true
   },
   "outputs": [],
   "source": [
    "from sklearn.linear_model import SGDClassifier"
   ]
  },
  {
   "cell_type": "code",
   "execution_count": 44,
   "metadata": {},
   "outputs": [
    {
     "name": "stdout",
     "output_type": "stream",
     "text": [
      "[[-7.59295626  3.54627558]\n",
      " [ 0.16618199 -1.52646942]\n",
      " [ 1.64327365  0.17280155]]\n",
      "[-4.76956293 -0.98021878 -1.11084284]\n"
     ]
    }
   ],
   "source": [
    "clf = SGDClassifier(max_iter=1000)\n",
    "clf.fit(X_train, y_train)\n",
    "\n",
    "print(clf.coef_)\n",
    "\n",
    "print(clf.intercept_)"
   ]
  },
  {
   "cell_type": "code",
   "execution_count": 47,
   "metadata": {},
   "outputs": [],
   "source": [
    "x_min, x_max = X_train[:, 0].min() - 0.5, X_train[:, 0].max() + 0.5\n",
    "y_min, y_max = X_train[:, 1].min() - 0.5, X_train[:, 1].max() + 0.5\n",
    "xs = np.arange(x_min, x_max, 0.5)"
   ]
  },
  {
   "cell_type": "code",
   "execution_count": 49,
   "metadata": {
    "collapsed": true
   },
   "outputs": [],
   "source": [
    "from bokeh.layouts import gridplot"
   ]
  },
  {
   "cell_type": "code",
   "execution_count": 54,
   "metadata": {},
   "outputs": [
    {
     "data": {
      "text/html": [
       "\n",
       "<div class=\"bk-root\">\n",
       "    <div class=\"bk-plotdiv\" id=\"f5c47857-662d-4507-96f5-31067d2ff7ef\"></div>\n",
       "</div>"
      ]
     },
     "metadata": {},
     "output_type": "display_data"
    },
    {
     "data": {
      "application/javascript": [
       "(function(root) {\n",
       "  function embed_document(root) {\n",
       "    \n",
       "  var docs_json = {\"0493ff30-317b-4b2f-8058-e11c7ad5a3b8\":{\"roots\":{\"references\":[{\"attributes\":{\"axis_label\":\"Sepal length\",\"formatter\":{\"id\":\"c60e8c42-c48f-45ee-bfb0-b9bb1be65e5a\",\"type\":\"BasicTickFormatter\"},\"plot\":{\"id\":\"8c20c6ac-d604-4bc0-954a-aa06439899a2\",\"subtype\":\"Figure\",\"type\":\"Plot\"},\"ticker\":{\"id\":\"5871b97d-3249-4f04-a876-51a8d5167e99\",\"type\":\"BasicTicker\"}},\"id\":\"828db773-29fa-48fb-9e37-89e169db0e27\",\"type\":\"LinearAxis\"},{\"attributes\":{},\"id\":\"7fe97ee9-779e-4c98-92f5-5a8d1314cce6\",\"type\":\"BasicTickFormatter\"},{\"attributes\":{\"active_drag\":\"auto\",\"active_inspect\":\"auto\",\"active_scroll\":\"auto\",\"active_tap\":\"auto\",\"tools\":[{\"id\":\"6ff9dde1-b0f4-4a6e-b565-75d989efa0cf\",\"type\":\"PanTool\"},{\"id\":\"885a3e82-acc3-46e2-b539-631b15957c90\",\"type\":\"WheelZoomTool\"},{\"id\":\"5f46eafe-ee55-4d63-9118-b0f57a68a55c\",\"type\":\"BoxZoomTool\"},{\"id\":\"255f21b4-644b-43d6-b8cb-4ff3ea84da8a\",\"type\":\"SaveTool\"},{\"id\":\"529724ee-cfe1-4a4f-a8fc-a630f8092449\",\"type\":\"ResetTool\"},{\"id\":\"b4fe063d-bd57-4d32-bfe0-94c4384f7937\",\"type\":\"HelpTool\"}]},\"id\":\"d20d3107-bce5-48ba-8a9f-a975705e7718\",\"type\":\"Toolbar\"},{\"attributes\":{},\"id\":\"61811fa6-dd9e-434b-b269-486aa1b92c7f\",\"type\":\"BasicTicker\"},{\"attributes\":{},\"id\":\"5871b97d-3249-4f04-a876-51a8d5167e99\",\"type\":\"BasicTicker\"},{\"attributes\":{\"plot\":null,\"text\":\"Class 1 versus the rest\"},\"id\":\"da353b44-cf3a-446d-b370-29dc207e9339\",\"type\":\"Title\"},{\"attributes\":{\"callback\":null,\"column_names\":[\"x\",\"y\"],\"data\":{\"x\":{\"__ndarray__\":\"OCWYeygm7b+MrDYfcjDjPzIZ5JxyH5M/n4dNOhvx3j98PIj5Q27pv+XC4rw1W8u/6QTT1tib9j/sMpHiYx3Vvz8m3FuAQ8E/meQNMokR0D+fh006G/HePyccw1T04/I/tlN4d1+25b/lwuK8NVvLv8xmZqUfWO4/jKw2H3Iw4z9SlUahVujmP5o/RmlH97i/meQNMokR0D84JZh7KCbtv8xmZqUfWO4/mj9GaUf3uL/sMpHiYx3Vv+wykeJjHdW/meQNMokR0D+KEMuV5r/0P+wykeJjHdW/MhnknHIfkz8yGeScch+TP5nkDTKJEdA/mj9GaUf3uL8Sti02UoHXP+XC4rw1W8u/ZgSx5iyN3L/sMpHiYx3Vv8knuxMCCPE/PybcW4BDwT/7BtR+Bm/wv+XC4rw1W8u/\",\"dtype\":\"float64\",\"shape\":[39]},\"y\":{\"__ndarray__\":\"oUvsf9SP+b+hS+x/1I/5v4S5lGW50e6/nbehlpMH1b8NV4BML8vyv523oZaTB9W/3wPmnUuU0z8NV4BML8vyv98D5p1LlNM/EevKNXBT5z/nRaIZJ/L8v2PQvP5uSOG/8MQoMhQN6L8NV4BML8vyv523oZaTB9W/DVeATC/L8r/fA+adS5TTP4S5lGW50e6/50WiGSfy/L8+HYcmZtsBwM85J78k+b2/Y9C8/m5I4b+EuZRludHuv6FL7H/Uj/m/nbehlpMH1b/XajjcBCy4P1dRNuaBLfa/8MQoMhQN6L/wxCgyFA3ov/DEKDIUDei/Y9C8/m5I4b9j0Lz+bkjhv885J78k+b2/zzknvyT5vb9XUTbmgS32v885J78k+b2/zzknvyT5vb9XUTbmgS32v885J78k+b2/\",\"dtype\":\"float64\",\"shape\":[39]}}},\"id\":\"a4393ea2-7d15-4627-873c-47c92c0aaee3\",\"type\":\"ColumnDataSource\"},{\"attributes\":{\"callback\":null},\"id\":\"4d9cf7bb-7109-42fa-8dbf-1d9d57e0870c\",\"type\":\"DataRange1d\"},{\"attributes\":{},\"id\":\"a1e2c943-fde9-4fe4-a719-23bc32cf30ef\",\"type\":\"LinearScale\"},{\"attributes\":{},\"id\":\"c60e8c42-c48f-45ee-bfb0-b9bb1be65e5a\",\"type\":\"BasicTickFormatter\"},{\"attributes\":{},\"id\":\"902864d5-5a9c-433b-b4b5-d76fe21b0a4a\",\"type\":\"ResetTool\"},{\"attributes\":{\"callback\":null},\"id\":\"0005ec9e-08b9-468c-973e-d7b28b88dce2\",\"type\":\"DataRange1d\"},{\"attributes\":{\"plot\":null,\"text\":\"Class 0 versus the rest\"},\"id\":\"a4ae61f5-f7ca-4fca-9911-ab7b57090018\",\"type\":\"Title\"},{\"attributes\":{},\"id\":\"3b4babe0-9256-47a1-b058-5b4bb3cad4ea\",\"type\":\"LinearScale\"},{\"attributes\":{},\"id\":\"6ff9dde1-b0f4-4a6e-b565-75d989efa0cf\",\"type\":\"PanTool\"},{\"attributes\":{\"formatter\":{\"id\":\"76e368d3-ee73-4b80-8928-7a428d89e13d\",\"type\":\"BasicTickFormatter\"},\"plot\":{\"id\":\"9cc756be-eeb9-49cc-bee8-ddf207a2354a\",\"subtype\":\"Figure\",\"type\":\"Plot\"},\"ticker\":{\"id\":\"2084dd64-8437-43a5-911f-bfe314a8b6e1\",\"type\":\"BasicTicker\"}},\"id\":\"79ce8bb7-529f-42f8-8687-4bd907ef91e7\",\"type\":\"LinearAxis\"},{\"attributes\":{},\"id\":\"885a3e82-acc3-46e2-b539-631b15957c90\",\"type\":\"WheelZoomTool\"},{\"attributes\":{\"bottom_units\":\"screen\",\"fill_alpha\":{\"value\":0.5},\"fill_color\":{\"value\":\"lightgrey\"},\"left_units\":\"screen\",\"level\":\"overlay\",\"line_alpha\":{\"value\":1.0},\"line_color\":{\"value\":\"black\"},\"line_dash\":[4,4],\"line_width\":{\"value\":2},\"plot\":null,\"render_mode\":\"css\",\"right_units\":\"screen\",\"top_units\":\"screen\"},\"id\":\"ab4c5d0d-cb72-423c-8b60-6711f5a9837f\",\"type\":\"BoxAnnotation\"},{\"attributes\":{\"fill_color\":{\"value\":\"red\"},\"line_color\":{\"value\":\"red\"},\"x\":{\"field\":\"x\"},\"y\":{\"field\":\"y\"}},\"id\":\"3b877827-0047-4982-9d4a-a4fafc5f3ee6\",\"type\":\"Circle\"},{\"attributes\":{\"overlay\":{\"id\":\"ab4c5d0d-cb72-423c-8b60-6711f5a9837f\",\"type\":\"BoxAnnotation\"}},\"id\":\"5f46eafe-ee55-4d63-9118-b0f57a68a55c\",\"type\":\"BoxZoomTool\"},{\"attributes\":{\"plot\":{\"id\":\"9cc756be-eeb9-49cc-bee8-ddf207a2354a\",\"subtype\":\"Figure\",\"type\":\"Plot\"},\"ticker\":{\"id\":\"ab7f1bec-30a1-4880-a107-929c0ec761f2\",\"type\":\"BasicTicker\"}},\"id\":\"59ea5c75-4bcd-4882-8a29-d9bbb1798d81\",\"type\":\"Grid\"},{\"attributes\":{},\"id\":\"529724ee-cfe1-4a4f-a8fc-a630f8092449\",\"type\":\"ResetTool\"},{\"attributes\":{},\"id\":\"a39c2494-eee2-4b36-ae7d-a1b54da9122c\",\"type\":\"LinearScale\"},{\"attributes\":{},\"id\":\"b4fe063d-bd57-4d32-bfe0-94c4384f7937\",\"type\":\"HelpTool\"},{\"attributes\":{\"axis_label\":\"Sepal length\",\"formatter\":{\"id\":\"4259ff54-30e9-4059-b32b-57d732d0939a\",\"type\":\"BasicTickFormatter\"},\"plot\":{\"id\":\"9cc756be-eeb9-49cc-bee8-ddf207a2354a\",\"subtype\":\"Figure\",\"type\":\"Plot\"},\"ticker\":{\"id\":\"ab7f1bec-30a1-4880-a107-929c0ec761f2\",\"type\":\"BasicTicker\"}},\"id\":\"09d3f84c-4dc3-432e-bf55-f60579ef6180\",\"type\":\"LinearAxis\"},{\"attributes\":{\"below\":[{\"id\":\"445d47a9-b522-4efa-91ad-2de88c76dc62\",\"type\":\"LinearAxis\"}],\"left\":[{\"id\":\"bae32f75-9aff-49bc-954a-44a8a4aee03b\",\"type\":\"LinearAxis\"}],\"plot_height\":300,\"plot_width\":200,\"renderers\":[{\"id\":\"445d47a9-b522-4efa-91ad-2de88c76dc62\",\"type\":\"LinearAxis\"},{\"id\":\"86978b27-d0e3-4352-97dd-ce92e4f897b0\",\"type\":\"Grid\"},{\"id\":\"bae32f75-9aff-49bc-954a-44a8a4aee03b\",\"type\":\"LinearAxis\"},{\"id\":\"7e223754-1c0c-4ab6-a39e-a8b576680bce\",\"type\":\"Grid\"},{\"id\":\"0a23648d-c542-4cb1-869d-64e11216a89e\",\"type\":\"BoxAnnotation\"},{\"id\":\"6f59a20b-d33f-458c-92c0-112cd234b2be\",\"type\":\"GlyphRenderer\"},{\"id\":\"e834f1f8-6c15-4e10-a108-d974544e1c8f\",\"type\":\"GlyphRenderer\"},{\"id\":\"6602b0d9-d910-4d88-bfff-c4adc66c6648\",\"type\":\"GlyphRenderer\"},{\"id\":\"159f5797-20a4-4553-b27c-cee0d01263cc\",\"type\":\"GlyphRenderer\"}],\"title\":{\"id\":\"527f1009-4fee-4ad1-83a1-76ac7ea8d2c4\",\"type\":\"Title\"},\"toolbar\":{\"id\":\"d4d23671-8769-4948-bcee-163967979dea\",\"type\":\"Toolbar\"},\"toolbar_location\":null,\"x_range\":{\"id\":\"0005ec9e-08b9-468c-973e-d7b28b88dce2\",\"type\":\"DataRange1d\"},\"x_scale\":{\"id\":\"6a513e0e-a550-4465-8ade-1b8747af2bff\",\"type\":\"LinearScale\"},\"y_range\":{\"id\":\"4d9cf7bb-7109-42fa-8dbf-1d9d57e0870c\",\"type\":\"DataRange1d\"},\"y_scale\":{\"id\":\"6983dc27-cadb-4658-922d-c29f4ef21463\",\"type\":\"LinearScale\"}},\"id\":\"61f52e9f-1ce9-4411-bf74-b03d663b0a54\",\"subtype\":\"Figure\",\"type\":\"Plot\"},{\"attributes\":{\"children\":[{\"id\":\"8c20c6ac-d604-4bc0-954a-aa06439899a2\",\"subtype\":\"Figure\",\"type\":\"Plot\"},{\"id\":\"9cc756be-eeb9-49cc-bee8-ddf207a2354a\",\"subtype\":\"Figure\",\"type\":\"Plot\"},{\"id\":\"61f52e9f-1ce9-4411-bf74-b03d663b0a54\",\"subtype\":\"Figure\",\"type\":\"Plot\"}]},\"id\":\"8a09049d-bd0b-4445-82b9-5cdf8d979a89\",\"type\":\"Row\"},{\"attributes\":{},\"id\":\"255f21b4-644b-43d6-b8cb-4ff3ea84da8a\",\"type\":\"SaveTool\"},{\"attributes\":{},\"id\":\"ab7f1bec-30a1-4880-a107-929c0ec761f2\",\"type\":\"BasicTicker\"},{\"attributes\":{\"below\":[{\"id\":\"828db773-29fa-48fb-9e37-89e169db0e27\",\"type\":\"LinearAxis\"}],\"left\":[{\"id\":\"45fa49b9-61e7-4c8e-b41a-1a6f1d826523\",\"type\":\"LinearAxis\"}],\"plot_height\":300,\"plot_width\":200,\"renderers\":[{\"id\":\"828db773-29fa-48fb-9e37-89e169db0e27\",\"type\":\"LinearAxis\"},{\"id\":\"9367eb87-37b6-46b2-ab94-3948315746e1\",\"type\":\"Grid\"},{\"id\":\"45fa49b9-61e7-4c8e-b41a-1a6f1d826523\",\"type\":\"LinearAxis\"},{\"id\":\"7d4c9bf3-a952-4626-8975-5817ce9e85f8\",\"type\":\"Grid\"},{\"id\":\"ab4c5d0d-cb72-423c-8b60-6711f5a9837f\",\"type\":\"BoxAnnotation\"},{\"id\":\"701270ac-0c38-48f3-b5bc-05dfad26da58\",\"type\":\"GlyphRenderer\"},{\"id\":\"41e973fb-578b-4fe9-973b-9fc9175f483f\",\"type\":\"GlyphRenderer\"},{\"id\":\"11c29690-02bd-4652-aebf-30bbaff1c53b\",\"type\":\"GlyphRenderer\"},{\"id\":\"1498e5ec-8310-4779-8903-1c2502cdd86d\",\"type\":\"GlyphRenderer\"}],\"title\":{\"id\":\"a4ae61f5-f7ca-4fca-9911-ab7b57090018\",\"type\":\"Title\"},\"toolbar\":{\"id\":\"d20d3107-bce5-48ba-8a9f-a975705e7718\",\"type\":\"Toolbar\"},\"toolbar_location\":null,\"x_range\":{\"id\":\"0005ec9e-08b9-468c-973e-d7b28b88dce2\",\"type\":\"DataRange1d\"},\"x_scale\":{\"id\":\"a1e2c943-fde9-4fe4-a719-23bc32cf30ef\",\"type\":\"LinearScale\"},\"y_range\":{\"id\":\"4d9cf7bb-7109-42fa-8dbf-1d9d57e0870c\",\"type\":\"DataRange1d\"},\"y_scale\":{\"id\":\"a80e099a-2076-48e6-98ea-4045f5d88ec6\",\"type\":\"LinearScale\"}},\"id\":\"8c20c6ac-d604-4bc0-954a-aa06439899a2\",\"subtype\":\"Figure\",\"type\":\"Plot\"},{\"attributes\":{\"active_drag\":\"auto\",\"active_inspect\":\"auto\",\"active_scroll\":\"auto\",\"active_tap\":\"auto\",\"tools\":[{\"id\":\"9e328375-cf94-4dae-b3ab-ba8ededcad88\",\"type\":\"PanTool\"},{\"id\":\"930851a8-5a41-403e-9852-579b9b3ab2f2\",\"type\":\"WheelZoomTool\"},{\"id\":\"b58cd7e2-1e93-4106-b7ef-ee98ec0e285f\",\"type\":\"BoxZoomTool\"},{\"id\":\"2667635a-aa8b-4f97-bda4-421dae36df3e\",\"type\":\"SaveTool\"},{\"id\":\"902864d5-5a9c-433b-b4b5-d76fe21b0a4a\",\"type\":\"ResetTool\"},{\"id\":\"c1cddaa9-d2a7-4f53-aada-1d1681ddfbd1\",\"type\":\"HelpTool\"}]},\"id\":\"501852b8-ca99-4596-8523-20716d5a85e3\",\"type\":\"Toolbar\"},{\"attributes\":{\"axis_label\":\"Sepal width\",\"formatter\":{\"id\":\"7fe97ee9-779e-4c98-92f5-5a8d1314cce6\",\"type\":\"BasicTickFormatter\"},\"plot\":{\"id\":\"8c20c6ac-d604-4bc0-954a-aa06439899a2\",\"subtype\":\"Figure\",\"type\":\"Plot\"},\"ticker\":{\"id\":\"61811fa6-dd9e-434b-b269-486aa1b92c7f\",\"type\":\"BasicTicker\"}},\"id\":\"45fa49b9-61e7-4c8e-b41a-1a6f1d826523\",\"type\":\"LinearAxis\"},{\"attributes\":{\"plot\":{\"id\":\"8c20c6ac-d604-4bc0-954a-aa06439899a2\",\"subtype\":\"Figure\",\"type\":\"Plot\"},\"ticker\":{\"id\":\"5871b97d-3249-4f04-a876-51a8d5167e99\",\"type\":\"BasicTicker\"}},\"id\":\"9367eb87-37b6-46b2-ab94-3948315746e1\",\"type\":\"Grid\"},{\"attributes\":{},\"id\":\"a80e099a-2076-48e6-98ea-4045f5d88ec6\",\"type\":\"LinearScale\"},{\"attributes\":{\"below\":[{\"id\":\"09d3f84c-4dc3-432e-bf55-f60579ef6180\",\"type\":\"LinearAxis\"}],\"left\":[{\"id\":\"79ce8bb7-529f-42f8-8687-4bd907ef91e7\",\"type\":\"LinearAxis\"}],\"plot_height\":300,\"plot_width\":200,\"renderers\":[{\"id\":\"09d3f84c-4dc3-432e-bf55-f60579ef6180\",\"type\":\"LinearAxis\"},{\"id\":\"59ea5c75-4bcd-4882-8a29-d9bbb1798d81\",\"type\":\"Grid\"},{\"id\":\"79ce8bb7-529f-42f8-8687-4bd907ef91e7\",\"type\":\"LinearAxis\"},{\"id\":\"416e3247-67df-44f9-9ec6-0af485479036\",\"type\":\"Grid\"},{\"id\":\"bb5df89c-85f0-443d-9e5f-ba7e2fa342de\",\"type\":\"BoxAnnotation\"},{\"id\":\"3628cc8a-cbe7-4eaf-b38c-3be9652b3e5c\",\"type\":\"GlyphRenderer\"},{\"id\":\"0261eb71-611c-494c-9e8f-b8bc4c477b4b\",\"type\":\"GlyphRenderer\"},{\"id\":\"1a4912b0-9a84-418d-be6a-3aae0e5c1e40\",\"type\":\"GlyphRenderer\"},{\"id\":\"c9336c0c-0125-49c5-8f4e-ccc74bd654fb\",\"type\":\"GlyphRenderer\"}],\"title\":{\"id\":\"da353b44-cf3a-446d-b370-29dc207e9339\",\"type\":\"Title\"},\"toolbar\":{\"id\":\"501852b8-ca99-4596-8523-20716d5a85e3\",\"type\":\"Toolbar\"},\"toolbar_location\":null,\"x_range\":{\"id\":\"0005ec9e-08b9-468c-973e-d7b28b88dce2\",\"type\":\"DataRange1d\"},\"x_scale\":{\"id\":\"3b4babe0-9256-47a1-b058-5b4bb3cad4ea\",\"type\":\"LinearScale\"},\"y_range\":{\"id\":\"4d9cf7bb-7109-42fa-8dbf-1d9d57e0870c\",\"type\":\"DataRange1d\"},\"y_scale\":{\"id\":\"a39c2494-eee2-4b36-ae7d-a1b54da9122c\",\"type\":\"LinearScale\"}},\"id\":\"9cc756be-eeb9-49cc-bee8-ddf207a2354a\",\"subtype\":\"Figure\",\"type\":\"Plot\"},{\"attributes\":{\"dimension\":1,\"plot\":{\"id\":\"8c20c6ac-d604-4bc0-954a-aa06439899a2\",\"subtype\":\"Figure\",\"type\":\"Plot\"},\"ticker\":{\"id\":\"61811fa6-dd9e-434b-b269-486aa1b92c7f\",\"type\":\"BasicTicker\"}},\"id\":\"7d4c9bf3-a952-4626-8975-5817ce9e85f8\",\"type\":\"Grid\"},{\"attributes\":{\"overlay\":{\"id\":\"0a23648d-c542-4cb1-869d-64e11216a89e\",\"type\":\"BoxAnnotation\"}},\"id\":\"fa8e3a98-cf8b-4902-b0a9-daae1384212c\",\"type\":\"BoxZoomTool\"},{\"attributes\":{\"callback\":null,\"column_names\":[\"x\",\"y\"],\"data\":{\"x\":{\"__ndarray__\":\"+wbUfgZv8L+87+MA6yb0vx/k60HdAva/Xvvbv/hK8r98PIj5Q27pv3w8iPlDbum/ZgSx5iyN3L/7BtR+Bm/wv33Y84LP3ve/3Mz7w8G6+b84JZh7KCbtvzglmHsoJu2/fDyI+UNu6b98PIj5Q27pvz/BAwW0lvu/fDyI+UNu6b/czPvDwbr5v3w8iPlDbum/OCWYeygm7b+2U3h3X7blvzIZ5JxyH5M/mj9GaUf3uL8f5OtB3QL2v+wykeJjHdW/OCWYeygm7b/7BtR+Bm/wv17727/4SvK/OCWYeygm7b/5amj1ev7hv7ZTeHdftuW/OCWYeygm7b8f5OtB3QL2vx/k60HdAva/ZgSx5iyN3L84JZh7KCbtv3w8iPlDbum/ZgSx5iyN3L9mBLHmLI3cv+wykeJjHdW/OCWYeygm7b9e+9u/+Eryv2YEseYsjdy/\",\"dtype\":\"float64\",\"shape\":[42]},\"y\":{\"__ndarray__\":\"12o43AQsuD/fA+adS5TTPxHryjVwU+c/EevKNXBT5z8R68o1cFPnP2dkB+iv0PU/+FhzG1WV/D/XajjcBCy4P6FL7H/Uj/m/nbehlpMH1b8dalFOXW7yP6XfNmkVGO4/rl69gQIz+T+uXr2BAjP5P885J78k+b2/pd82aRUY7j/fA+adS5TTP65evYECM/k/pd82aRUY7j8R68o1cFPnP0JTKbWn9/8/Np4ADnnABkDfA+adS5TTP6XfNmkVGO4/fPZeAsuO4D/POSe/JPm9v9dqONwELLg/zzknvyT5vb9nZAfor9D1P8Smbyf9rAFAEevKNXBT5z8dalFOXW7yP9dqONwELLg/Z2QH6K/Q9T8R68o1cFPnP3z2XgLLjuA/+FhzG1WV/D8R68o1cFPnP+yjSnQmXgNA3wPmnUuU0z/POSe/JPm9vxHryjVwU+c/\",\"dtype\":\"float64\",\"shape\":[42]}}},\"id\":\"93c161ff-be6d-41c5-a863-817eed420b25\",\"type\":\"ColumnDataSource\"},{\"attributes\":{\"source\":{\"id\":\"277cfbbd-f32a-480f-87c5-01301cc693ef\",\"type\":\"ColumnDataSource\"}},\"id\":\"0ba63c0b-8e04-4042-87ec-a0260dffd1bb\",\"type\":\"CDSView\"},{\"attributes\":{},\"id\":\"410c5576-6b68-4cc5-a5a6-e271cd3a8b7f\",\"type\":\"PanTool\"},{\"attributes\":{\"formatter\":{\"id\":\"04447d6b-8b9c-42e2-8f99-abe3ef4a8827\",\"type\":\"BasicTickFormatter\"},\"plot\":{\"id\":\"61f52e9f-1ce9-4411-bf74-b03d663b0a54\",\"subtype\":\"Figure\",\"type\":\"Plot\"},\"ticker\":{\"id\":\"d0b6482d-9a2f-41b1-ba62-5183177e6085\",\"type\":\"BasicTicker\"}},\"id\":\"bae32f75-9aff-49bc-954a-44a8a4aee03b\",\"type\":\"LinearAxis\"},{\"attributes\":{\"source\":{\"id\":\"6dd99d1f-9f47-484c-aa07-e5300379a567\",\"type\":\"ColumnDataSource\"}},\"id\":\"c2517bf5-bb3c-4f5a-b092-2aac162d544a\",\"type\":\"CDSView\"},{\"attributes\":{\"data_source\":{\"id\":\"d7872652-b710-4370-9f6e-e6066f3a0210\",\"type\":\"ColumnDataSource\"},\"glyph\":{\"id\":\"568e5b2a-eebe-4c9c-81bd-4f236587c1c8\",\"type\":\"Circle\"},\"hover_glyph\":null,\"muted_glyph\":null,\"nonselection_glyph\":{\"id\":\"5fc71ee2-113e-466c-b2f3-e7607ece6f0d\",\"type\":\"Circle\"},\"selection_glyph\":null,\"view\":{\"id\":\"6e1f6446-3fbd-4a21-a70a-918ba52a51be\",\"type\":\"CDSView\"}},\"id\":\"6f59a20b-d33f-458c-92c0-112cd234b2be\",\"type\":\"GlyphRenderer\"},{\"attributes\":{\"fill_alpha\":{\"value\":0.1},\"fill_color\":{\"value\":\"#1f77b4\"},\"line_alpha\":{\"value\":0.1},\"line_color\":{\"value\":\"#1f77b4\"},\"x\":{\"field\":\"x\"},\"y\":{\"field\":\"y\"}},\"id\":\"eee7b74b-bb58-4890-a99c-5c10a353678d\",\"type\":\"Circle\"},{\"attributes\":{\"line_alpha\":0.1,\"line_color\":\"#1f77b4\",\"x\":{\"field\":\"x\"},\"y\":{\"field\":\"y\"}},\"id\":\"d300b83d-4cce-4a9c-9ec7-4ff21959e0bf\",\"type\":\"Line\"},{\"attributes\":{\"data_source\":{\"id\":\"b1665c5d-1ccf-4b93-a7d8-2f32e364a14e\",\"type\":\"ColumnDataSource\"},\"glyph\":{\"id\":\"7f9a6b26-99f7-42e1-8a0d-c418a28cdb97\",\"type\":\"Circle\"},\"hover_glyph\":null,\"muted_glyph\":null,\"nonselection_glyph\":{\"id\":\"d2eedbad-5347-472f-abe6-b4b69b486486\",\"type\":\"Circle\"},\"selection_glyph\":null,\"view\":{\"id\":\"eded36c5-cceb-468e-81a3-4784787882bb\",\"type\":\"CDSView\"}},\"id\":\"c9336c0c-0125-49c5-8f4e-ccc74bd654fb\",\"type\":\"GlyphRenderer\"},{\"attributes\":{\"dimension\":1,\"plot\":{\"id\":\"61f52e9f-1ce9-4411-bf74-b03d663b0a54\",\"subtype\":\"Figure\",\"type\":\"Plot\"},\"ticker\":{\"id\":\"d0b6482d-9a2f-41b1-ba62-5183177e6085\",\"type\":\"BasicTicker\"}},\"id\":\"7e223754-1c0c-4ab6-a39e-a8b576680bce\",\"type\":\"Grid\"},{\"attributes\":{\"callback\":null,\"column_names\":[\"x\",\"y\"],\"data\":{\"x\":{\"__ndarray__\":\"+wbUfgZv8L+87+MA6yb0vx/k60HdAva/Xvvbv/hK8r98PIj5Q27pv3w8iPlDbum/ZgSx5iyN3L/7BtR+Bm/wv33Y84LP3ve/3Mz7w8G6+b84JZh7KCbtvzglmHsoJu2/fDyI+UNu6b98PIj5Q27pvz/BAwW0lvu/fDyI+UNu6b/czPvDwbr5v3w8iPlDbum/OCWYeygm7b+2U3h3X7blvzIZ5JxyH5M/mj9GaUf3uL8f5OtB3QL2v+wykeJjHdW/OCWYeygm7b/7BtR+Bm/wv17727/4SvK/OCWYeygm7b/5amj1ev7hv7ZTeHdftuW/OCWYeygm7b8f5OtB3QL2vx/k60HdAva/ZgSx5iyN3L84JZh7KCbtv3w8iPlDbum/ZgSx5iyN3L9mBLHmLI3cv+wykeJjHdW/OCWYeygm7b9e+9u/+Eryv2YEseYsjdy/\",\"dtype\":\"float64\",\"shape\":[42]},\"y\":{\"__ndarray__\":\"12o43AQsuD/fA+adS5TTPxHryjVwU+c/EevKNXBT5z8R68o1cFPnP2dkB+iv0PU/+FhzG1WV/D/XajjcBCy4P6FL7H/Uj/m/nbehlpMH1b8dalFOXW7yP6XfNmkVGO4/rl69gQIz+T+uXr2BAjP5P885J78k+b2/pd82aRUY7j/fA+adS5TTP65evYECM/k/pd82aRUY7j8R68o1cFPnP0JTKbWn9/8/Np4ADnnABkDfA+adS5TTP6XfNmkVGO4/fPZeAsuO4D/POSe/JPm9v9dqONwELLg/zzknvyT5vb9nZAfor9D1P8Smbyf9rAFAEevKNXBT5z8dalFOXW7yP9dqONwELLg/Z2QH6K/Q9T8R68o1cFPnP3z2XgLLjuA/+FhzG1WV/D8R68o1cFPnP+yjSnQmXgNA3wPmnUuU0z/POSe/JPm9vxHryjVwU+c/\",\"dtype\":\"float64\",\"shape\":[42]}}},\"id\":\"b46afaa4-fb04-4eeb-a206-9adbe3156860\",\"type\":\"ColumnDataSource\"},{\"attributes\":{},\"id\":\"9e328375-cf94-4dae-b3ab-ba8ededcad88\",\"type\":\"PanTool\"},{\"attributes\":{\"source\":{\"id\":\"b1665c5d-1ccf-4b93-a7d8-2f32e364a14e\",\"type\":\"ColumnDataSource\"}},\"id\":\"eded36c5-cceb-468e-81a3-4784787882bb\",\"type\":\"CDSView\"},{\"attributes\":{},\"id\":\"b65b01de-d6c7-4a58-93ed-75a706cf77db\",\"type\":\"BasicTicker\"},{\"attributes\":{\"fill_color\":{\"value\":\"red\"},\"line_color\":{\"value\":\"red\"},\"x\":{\"field\":\"x\"},\"y\":{\"field\":\"y\"}},\"id\":\"2be4970a-2212-4fe6-b984-6c49b3758bd1\",\"type\":\"Circle\"},{\"attributes\":{\"source\":{\"id\":\"6f390bd8-3037-43d9-882f-9745ea866ec0\",\"type\":\"ColumnDataSource\"}},\"id\":\"c5516c10-b9b6-4b8b-bd85-67d24843e4ab\",\"type\":\"CDSView\"},{\"attributes\":{},\"id\":\"d0b6482d-9a2f-41b1-ba62-5183177e6085\",\"type\":\"BasicTicker\"},{\"attributes\":{\"fill_alpha\":{\"value\":0.1},\"fill_color\":{\"value\":\"#1f77b4\"},\"line_alpha\":{\"value\":0.1},\"line_color\":{\"value\":\"#1f77b4\"},\"x\":{\"field\":\"x\"},\"y\":{\"field\":\"y\"}},\"id\":\"4f41fb7f-ccab-4a98-8de4-57af54ecb967\",\"type\":\"Circle\"},{\"attributes\":{\"source\":{\"id\":\"b46afaa4-fb04-4eeb-a206-9adbe3156860\",\"type\":\"ColumnDataSource\"}},\"id\":\"0231617d-79ed-4ccf-bdb1-7f8d692dd5b8\",\"type\":\"CDSView\"},{\"attributes\":{\"plot\":null,\"text\":\"Class 2 versus the rest\"},\"id\":\"527f1009-4fee-4ad1-83a1-76ac7ea8d2c4\",\"type\":\"Title\"},{\"attributes\":{\"fill_color\":{\"value\":\"red\"},\"line_color\":{\"value\":\"red\"},\"x\":{\"field\":\"x\"},\"y\":{\"field\":\"y\"}},\"id\":\"568e5b2a-eebe-4c9c-81bd-4f236587c1c8\",\"type\":\"Circle\"},{\"attributes\":{},\"id\":\"6a513e0e-a550-4465-8ade-1b8747af2bff\",\"type\":\"LinearScale\"},{\"attributes\":{\"fill_alpha\":{\"value\":0.1},\"fill_color\":{\"value\":\"#1f77b4\"},\"line_alpha\":{\"value\":0.1},\"line_color\":{\"value\":\"#1f77b4\"},\"x\":{\"field\":\"x\"},\"y\":{\"field\":\"y\"}},\"id\":\"d2eedbad-5347-472f-abe6-b4b69b486486\",\"type\":\"Circle\"},{\"attributes\":{\"data_source\":{\"id\":\"09a6ba78-c2a9-4e63-91d9-b69b436d5c3e\",\"type\":\"ColumnDataSource\"},\"glyph\":{\"id\":\"7c94a9c3-187c-4123-b518-b3cedfb8e21e\",\"type\":\"Circle\"},\"hover_glyph\":null,\"muted_glyph\":null,\"nonselection_glyph\":{\"id\":\"99877a13-22bf-400a-a69b-b720c3ca8173\",\"type\":\"Circle\"},\"selection_glyph\":null,\"view\":{\"id\":\"d484f91c-9471-4a4a-a64f-5ad6cb94bdb5\",\"type\":\"CDSView\"}},\"id\":\"0261eb71-611c-494c-9e8f-b8bc4c477b4b\",\"type\":\"GlyphRenderer\"},{\"attributes\":{},\"id\":\"6983dc27-cadb-4658-922d-c29f4ef21463\",\"type\":\"LinearScale\"},{\"attributes\":{\"bottom_units\":\"screen\",\"fill_alpha\":{\"value\":0.5},\"fill_color\":{\"value\":\"lightgrey\"},\"left_units\":\"screen\",\"level\":\"overlay\",\"line_alpha\":{\"value\":1.0},\"line_color\":{\"value\":\"black\"},\"line_dash\":[4,4],\"line_width\":{\"value\":2},\"plot\":null,\"render_mode\":\"css\",\"right_units\":\"screen\",\"top_units\":\"screen\"},\"id\":\"bb5df89c-85f0-443d-9e5f-ba7e2fa342de\",\"type\":\"BoxAnnotation\"},{\"attributes\":{\"callback\":null,\"column_names\":[\"x\",\"y\"],\"data\":{\"x\":{\"__ndarray__\":\"Jk4NkK6rA0APflYjO6DqPzIZ5JxyH5M/xlkFT7zPAUCMrDYfcjDjP6rt4li9U/o/bNby2qEL/j8nHMNU9OPyP1KVRqFW6OY/mj9GaUf3uL8Sti02UoHXP1KVRqFW6OY/qu3iWL1T+j+UX4Euw+EAQA9+ViM7oOo/jKw2H3Iw4z9SlUahVujmP4oQy5Xmv/Q/jKw2H3Iw4z/JJ7sTAgjxP8ZZBU+8zwFACOLqma8v/D/JJ7sTAgjxP8knuxMCCPE/+wbUfgZv8L+fh006G/HeP8ZZBU+8zwFAMhnknHIfkz9H+doXy3f4P4ysNh9yMOM/xlkFT7zPAUA=\",\"dtype\":\"float64\",\"shape\":[31]},\"y\":{\"__ndarray__\":\"rl69gQIz+T/POSe/JPm9v2PQvP5uSOG/hLmUZbnR7r9j0Lz+bkjhv885J78k+b2/Y9C8/m5I4b/POSe/JPm9v2PQvP5uSOG/DVeATC/L8r/POSe/JPm9v2PQvP5uSOG/HWpRTl1u8j/POSe/JPm9v98D5p1LlNM/8MQoMhQN6L/wxCgyFA3ov9dqONwELLg/nbehlpMH1b8NV4BML8vyv65evYECM/k/nbehlpMH1b989l4Cy47gP3z2XgLLjuA/DVeATC/L8r8R68o1cFPnP2PQvP5uSOG/8MQoMhQN6L/POSe/JPm9vw1XgEwvy/K/zzknvyT5vb8=\",\"dtype\":\"float64\",\"shape\":[31]}}},\"id\":\"b1665c5d-1ccf-4b93-a7d8-2f32e364a14e\",\"type\":\"ColumnDataSource\"},{\"attributes\":{\"fill_alpha\":{\"value\":0.1},\"fill_color\":{\"value\":\"#1f77b4\"},\"line_alpha\":{\"value\":0.1},\"line_color\":{\"value\":\"#1f77b4\"},\"x\":{\"field\":\"x\"},\"y\":{\"field\":\"y\"}},\"id\":\"54faabac-c72e-4f96-bb24-c227b9afd688\",\"type\":\"Circle\"},{\"attributes\":{\"fill_alpha\":{\"value\":0.1},\"fill_color\":{\"value\":\"#1f77b4\"},\"line_alpha\":{\"value\":0.1},\"line_color\":{\"value\":\"#1f77b4\"},\"x\":{\"field\":\"x\"},\"y\":{\"field\":\"y\"}},\"id\":\"5fc71ee2-113e-466c-b2f3-e7607ece6f0d\",\"type\":\"Circle\"},{\"attributes\":{},\"id\":\"4259ff54-30e9-4059-b32b-57d732d0939a\",\"type\":\"BasicTickFormatter\"},{\"attributes\":{\"source\":{\"id\":\"d7872652-b710-4370-9f6e-e6066f3a0210\",\"type\":\"ColumnDataSource\"}},\"id\":\"6e1f6446-3fbd-4a21-a70a-918ba52a51be\",\"type\":\"CDSView\"},{\"attributes\":{\"overlay\":{\"id\":\"bb5df89c-85f0-443d-9e5f-ba7e2fa342de\",\"type\":\"BoxAnnotation\"}},\"id\":\"b58cd7e2-1e93-4106-b7ef-ee98ec0e285f\",\"type\":\"BoxZoomTool\"},{\"attributes\":{},\"id\":\"930851a8-5a41-403e-9852-579b9b3ab2f2\",\"type\":\"WheelZoomTool\"},{\"attributes\":{\"callback\":null,\"column_names\":[\"x\",\"y\"],\"data\":{\"x\":{\"__ndarray__\":\"Jk4NkK6rA0APflYjO6DqPzIZ5JxyH5M/xlkFT7zPAUCMrDYfcjDjP6rt4li9U/o/bNby2qEL/j8nHMNU9OPyP1KVRqFW6OY/mj9GaUf3uL8Sti02UoHXP1KVRqFW6OY/qu3iWL1T+j+UX4Euw+EAQA9+ViM7oOo/jKw2H3Iw4z9SlUahVujmP4oQy5Xmv/Q/jKw2H3Iw4z/JJ7sTAgjxP8ZZBU+8zwFACOLqma8v/D/JJ7sTAgjxP8knuxMCCPE/+wbUfgZv8L+fh006G/HeP8ZZBU+8zwFAMhnknHIfkz9H+doXy3f4P4ysNh9yMOM/xlkFT7zPAUA=\",\"dtype\":\"float64\",\"shape\":[31]},\"y\":{\"__ndarray__\":\"rl69gQIz+T/POSe/JPm9v2PQvP5uSOG/hLmUZbnR7r9j0Lz+bkjhv885J78k+b2/Y9C8/m5I4b/POSe/JPm9v2PQvP5uSOG/DVeATC/L8r/POSe/JPm9v2PQvP5uSOG/HWpRTl1u8j/POSe/JPm9v98D5p1LlNM/8MQoMhQN6L/wxCgyFA3ov9dqONwELLg/nbehlpMH1b8NV4BML8vyv65evYECM/k/nbehlpMH1b989l4Cy47gP3z2XgLLjuA/DVeATC/L8r8R68o1cFPnP2PQvP5uSOG/8MQoMhQN6L/POSe/JPm9vw1XgEwvy/K/zzknvyT5vb8=\",\"dtype\":\"float64\",\"shape\":[31]}}},\"id\":\"478f4976-a016-4c8f-b1ab-c3b9913f87fb\",\"type\":\"ColumnDataSource\"},{\"attributes\":{},\"id\":\"aee2f019-9166-4cd4-8306-07dba4c1a1bb\",\"type\":\"ResetTool\"},{\"attributes\":{\"source\":{\"id\":\"1ae5016e-67b1-4dc4-9d6a-936e14bc1cac\",\"type\":\"ColumnDataSource\"}},\"id\":\"da6cece2-69ed-4c13-ac2c-8c4203ca500f\",\"type\":\"CDSView\"},{\"attributes\":{\"axis_label\":\"Sepal length\",\"formatter\":{\"id\":\"7a5910cd-dc56-4a4c-9adf-c89af4247c6d\",\"type\":\"BasicTickFormatter\"},\"plot\":{\"id\":\"61f52e9f-1ce9-4411-bf74-b03d663b0a54\",\"subtype\":\"Figure\",\"type\":\"Plot\"},\"ticker\":{\"id\":\"b65b01de-d6c7-4a58-93ed-75a706cf77db\",\"type\":\"BasicTicker\"}},\"id\":\"445d47a9-b522-4efa-91ad-2de88c76dc62\",\"type\":\"LinearAxis\"},{\"attributes\":{\"callback\":null,\"column_names\":[\"x\",\"y\"],\"data\":{\"x\":{\"__ndarray__\":\"OCWYeygm7b+MrDYfcjDjPzIZ5JxyH5M/n4dNOhvx3j98PIj5Q27pv+XC4rw1W8u/6QTT1tib9j/sMpHiYx3Vvz8m3FuAQ8E/meQNMokR0D+fh006G/HePyccw1T04/I/tlN4d1+25b/lwuK8NVvLv8xmZqUfWO4/jKw2H3Iw4z9SlUahVujmP5o/RmlH97i/meQNMokR0D84JZh7KCbtv8xmZqUfWO4/mj9GaUf3uL/sMpHiYx3Vv+wykeJjHdW/meQNMokR0D+KEMuV5r/0P+wykeJjHdW/MhnknHIfkz8yGeScch+TP5nkDTKJEdA/mj9GaUf3uL8Sti02UoHXP+XC4rw1W8u/ZgSx5iyN3L/sMpHiYx3Vv8knuxMCCPE/PybcW4BDwT/7BtR+Bm/wv+XC4rw1W8u/\",\"dtype\":\"float64\",\"shape\":[39]},\"y\":{\"__ndarray__\":\"oUvsf9SP+b+hS+x/1I/5v4S5lGW50e6/nbehlpMH1b8NV4BML8vyv523oZaTB9W/3wPmnUuU0z8NV4BML8vyv98D5p1LlNM/EevKNXBT5z/nRaIZJ/L8v2PQvP5uSOG/8MQoMhQN6L8NV4BML8vyv523oZaTB9W/DVeATC/L8r/fA+adS5TTP4S5lGW50e6/50WiGSfy/L8+HYcmZtsBwM85J78k+b2/Y9C8/m5I4b+EuZRludHuv6FL7H/Uj/m/nbehlpMH1b/XajjcBCy4P1dRNuaBLfa/8MQoMhQN6L/wxCgyFA3ov/DEKDIUDei/Y9C8/m5I4b9j0Lz+bkjhv885J78k+b2/zzknvyT5vb9XUTbmgS32v885J78k+b2/zzknvyT5vb9XUTbmgS32v885J78k+b2/\",\"dtype\":\"float64\",\"shape\":[39]}}},\"id\":\"09a6ba78-c2a9-4e63-91d9-b69b436d5c3e\",\"type\":\"ColumnDataSource\"},{\"attributes\":{},\"id\":\"f135d87b-0251-432f-ab03-63302ad5d1b4\",\"type\":\"WheelZoomTool\"},{\"attributes\":{\"data_source\":{\"id\":\"1ba41fef-7f1c-4101-bf6c-0fbe5e65b8e2\",\"type\":\"ColumnDataSource\"},\"glyph\":{\"id\":\"7d40099c-eede-4882-b9b1-3d999a7a09c5\",\"type\":\"Circle\"},\"hover_glyph\":null,\"muted_glyph\":null,\"nonselection_glyph\":{\"id\":\"cddbdf4b-540c-45b3-a5ab-82ca2a8b6b77\",\"type\":\"Circle\"},\"selection_glyph\":null,\"view\":{\"id\":\"c6cc1140-ee13-4666-9b58-8c2f593da447\",\"type\":\"CDSView\"}},\"id\":\"e834f1f8-6c15-4e10-a108-d974544e1c8f\",\"type\":\"GlyphRenderer\"},{\"attributes\":{\"callback\":null,\"column_names\":[\"x\",\"y\"],\"data\":{\"x\":{\"__ndarray__\":\"+wbUfgZv8L+87+MA6yb0vx/k60HdAva/Xvvbv/hK8r98PIj5Q27pv3w8iPlDbum/ZgSx5iyN3L/7BtR+Bm/wv33Y84LP3ve/3Mz7w8G6+b84JZh7KCbtvzglmHsoJu2/fDyI+UNu6b98PIj5Q27pvz/BAwW0lvu/fDyI+UNu6b/czPvDwbr5v3w8iPlDbum/OCWYeygm7b+2U3h3X7blvzIZ5JxyH5M/mj9GaUf3uL8f5OtB3QL2v+wykeJjHdW/OCWYeygm7b/7BtR+Bm/wv17727/4SvK/OCWYeygm7b/5amj1ev7hv7ZTeHdftuW/OCWYeygm7b8f5OtB3QL2vx/k60HdAva/ZgSx5iyN3L84JZh7KCbtv3w8iPlDbum/ZgSx5iyN3L9mBLHmLI3cv+wykeJjHdW/OCWYeygm7b9e+9u/+Eryv2YEseYsjdy/\",\"dtype\":\"float64\",\"shape\":[42]},\"y\":{\"__ndarray__\":\"12o43AQsuD/fA+adS5TTPxHryjVwU+c/EevKNXBT5z8R68o1cFPnP2dkB+iv0PU/+FhzG1WV/D/XajjcBCy4P6FL7H/Uj/m/nbehlpMH1b8dalFOXW7yP6XfNmkVGO4/rl69gQIz+T+uXr2BAjP5P885J78k+b2/pd82aRUY7j/fA+adS5TTP65evYECM/k/pd82aRUY7j8R68o1cFPnP0JTKbWn9/8/Np4ADnnABkDfA+adS5TTP6XfNmkVGO4/fPZeAsuO4D/POSe/JPm9v9dqONwELLg/zzknvyT5vb9nZAfor9D1P8Smbyf9rAFAEevKNXBT5z8dalFOXW7yP9dqONwELLg/Z2QH6K/Q9T8R68o1cFPnP3z2XgLLjuA/+FhzG1WV/D8R68o1cFPnP+yjSnQmXgNA3wPmnUuU0z/POSe/JPm9vxHryjVwU+c/\",\"dtype\":\"float64\",\"shape\":[42]}}},\"id\":\"d7872652-b710-4370-9f6e-e6066f3a0210\",\"type\":\"ColumnDataSource\"},{\"attributes\":{\"source\":{\"id\":\"93c161ff-be6d-41c5-a863-817eed420b25\",\"type\":\"ColumnDataSource\"}},\"id\":\"daed1aa5-6250-4b10-b537-3f0128c44e15\",\"type\":\"CDSView\"},{\"attributes\":{\"callback\":null,\"column_names\":[\"x\",\"y\"],\"data\":{\"x\":{\"__ndarray__\":\"Jk4NkK6rA0APflYjO6DqPzIZ5JxyH5M/xlkFT7zPAUCMrDYfcjDjP6rt4li9U/o/bNby2qEL/j8nHMNU9OPyP1KVRqFW6OY/mj9GaUf3uL8Sti02UoHXP1KVRqFW6OY/qu3iWL1T+j+UX4Euw+EAQA9+ViM7oOo/jKw2H3Iw4z9SlUahVujmP4oQy5Xmv/Q/jKw2H3Iw4z/JJ7sTAgjxP8ZZBU+8zwFACOLqma8v/D/JJ7sTAgjxP8knuxMCCPE/+wbUfgZv8L+fh006G/HeP8ZZBU+8zwFAMhnknHIfkz9H+doXy3f4P4ysNh9yMOM/xlkFT7zPAUA=\",\"dtype\":\"float64\",\"shape\":[31]},\"y\":{\"__ndarray__\":\"+by3nDz0MMBvmtxa9r73vwrAXNfcABlAAVnacvV8LcBe2pizTzrnP6GGZQIscCLAlqf6yK/bJsByiXbqSDITwOlaIAKdQ9i/9+DxnWBsHUBnujoHo3wHQOlaIAKdQ9i/oYZlAixwIsCEyI+PM0crwG+a3Fr2vve/XtqYs0865z/pWiACnUPYv2uqC7HMnRfAXtqYs0865z8K0cJHio0NwAFZ2nL1fC3AFxew5e2lJMAK0cJHio0NwArRwkeKjQ3AI7qmtB8yMEDn8CD0Nkv9PwFZ2nL1fC3ACsBc19wAGUAk9hofajogwF7amLNPOuc/AVnacvV8LcA=\",\"dtype\":\"float64\",\"shape\":[31]}}},\"id\":\"277cfbbd-f32a-480f-87c5-01301cc693ef\",\"type\":\"ColumnDataSource\"},{\"attributes\":{\"plot\":{\"id\":\"61f52e9f-1ce9-4411-bf74-b03d663b0a54\",\"subtype\":\"Figure\",\"type\":\"Plot\"},\"ticker\":{\"id\":\"b65b01de-d6c7-4a58-93ed-75a706cf77db\",\"type\":\"BasicTicker\"}},\"id\":\"86978b27-d0e3-4352-97dd-ce92e4f897b0\",\"type\":\"Grid\"},{\"attributes\":{},\"id\":\"13eb05cf-77a7-429a-9bda-71db5cefcd1f\",\"type\":\"HelpTool\"},{\"attributes\":{\"line_color\":\"#1f77b4\",\"x\":{\"field\":\"x\"},\"y\":{\"field\":\"y\"}},\"id\":\"66c93fa2-2eaf-4533-836c-8289f33ab91e\",\"type\":\"Line\"},{\"attributes\":{},\"id\":\"c1cddaa9-d2a7-4f53-aada-1d1681ddfbd1\",\"type\":\"HelpTool\"},{\"attributes\":{},\"id\":\"04447d6b-8b9c-42e2-8f99-abe3ef4a8827\",\"type\":\"BasicTickFormatter\"},{\"attributes\":{},\"id\":\"9bdebe10-ee80-42e6-a86d-ea41aac311cb\",\"type\":\"SaveTool\"},{\"attributes\":{\"fill_color\":{\"value\":\"greenyellow\"},\"line_color\":{\"value\":\"greenyellow\"},\"x\":{\"field\":\"x\"},\"y\":{\"field\":\"y\"}},\"id\":\"fed20894-32a8-4ec1-9b38-ce7fedfcd9d4\",\"type\":\"Circle\"},{\"attributes\":{\"fill_alpha\":{\"value\":0.1},\"fill_color\":{\"value\":\"#1f77b4\"},\"line_alpha\":{\"value\":0.1},\"line_color\":{\"value\":\"#1f77b4\"},\"x\":{\"field\":\"x\"},\"y\":{\"field\":\"y\"}},\"id\":\"99877a13-22bf-400a-a69b-b720c3ca8173\",\"type\":\"Circle\"},{\"attributes\":{\"bottom_units\":\"screen\",\"fill_alpha\":{\"value\":0.5},\"fill_color\":{\"value\":\"lightgrey\"},\"left_units\":\"screen\",\"level\":\"overlay\",\"line_alpha\":{\"value\":1.0},\"line_color\":{\"value\":\"black\"},\"line_dash\":[4,4],\"line_width\":{\"value\":2},\"plot\":null,\"render_mode\":\"css\",\"right_units\":\"screen\",\"top_units\":\"screen\"},\"id\":\"0a23648d-c542-4cb1-869d-64e11216a89e\",\"type\":\"BoxAnnotation\"},{\"attributes\":{\"fill_alpha\":{\"value\":0.1},\"fill_color\":{\"value\":\"#1f77b4\"},\"line_alpha\":{\"value\":0.1},\"line_color\":{\"value\":\"#1f77b4\"},\"x\":{\"field\":\"x\"},\"y\":{\"field\":\"y\"}},\"id\":\"bd66a482-7fd1-46a6-b6cf-a51826da727d\",\"type\":\"Circle\"},{\"attributes\":{},\"id\":\"76e368d3-ee73-4b80-8928-7a428d89e13d\",\"type\":\"BasicTickFormatter\"},{\"attributes\":{},\"id\":\"2667635a-aa8b-4f97-bda4-421dae36df3e\",\"type\":\"SaveTool\"},{\"attributes\":{\"fill_color\":{\"value\":\"blue\"},\"line_color\":{\"value\":\"blue\"},\"x\":{\"field\":\"x\"},\"y\":{\"field\":\"y\"}},\"id\":\"872ab7da-6cb2-4c0d-9529-8f24eb7a95de\",\"type\":\"Circle\"},{\"attributes\":{},\"id\":\"2084dd64-8437-43a5-911f-bfe314a8b6e1\",\"type\":\"BasicTicker\"},{\"attributes\":{\"fill_color\":{\"value\":\"blue\"},\"line_color\":{\"value\":\"blue\"},\"x\":{\"field\":\"x\"},\"y\":{\"field\":\"y\"}},\"id\":\"482f3cb8-63d1-43d5-b407-8d984b4d5d28\",\"type\":\"Circle\"},{\"attributes\":{\"data_source\":{\"id\":\"6f390bd8-3037-43d9-882f-9745ea866ec0\",\"type\":\"ColumnDataSource\"},\"glyph\":{\"id\":\"66c93fa2-2eaf-4533-836c-8289f33ab91e\",\"type\":\"Line\"},\"hover_glyph\":null,\"muted_glyph\":null,\"nonselection_glyph\":{\"id\":\"d300b83d-4cce-4a9c-9ec7-4ff21959e0bf\",\"type\":\"Line\"},\"selection_glyph\":null,\"view\":{\"id\":\"c5516c10-b9b6-4b8b-bd85-67d24843e4ab\",\"type\":\"CDSView\"}},\"id\":\"1a4912b0-9a84-418d-be6a-3aae0e5c1e40\",\"type\":\"GlyphRenderer\"},{\"attributes\":{\"data_source\":{\"id\":\"93c161ff-be6d-41c5-a863-817eed420b25\",\"type\":\"ColumnDataSource\"},\"glyph\":{\"id\":\"2be4970a-2212-4fe6-b984-6c49b3758bd1\",\"type\":\"Circle\"},\"hover_glyph\":null,\"muted_glyph\":null,\"nonselection_glyph\":{\"id\":\"eee7b74b-bb58-4890-a99c-5c10a353678d\",\"type\":\"Circle\"},\"selection_glyph\":null,\"view\":{\"id\":\"daed1aa5-6250-4b10-b537-3f0128c44e15\",\"type\":\"CDSView\"}},\"id\":\"3628cc8a-cbe7-4eaf-b38c-3be9652b3e5c\",\"type\":\"GlyphRenderer\"},{\"attributes\":{\"callback\":null,\"column_names\":[\"x\",\"y\"],\"data\":{\"x\":{\"__ndarray__\":\"Jk4NkK6rA0APflYjO6DqPzIZ5JxyH5M/xlkFT7zPAUCMrDYfcjDjP6rt4li9U/o/bNby2qEL/j8nHMNU9OPyP1KVRqFW6OY/mj9GaUf3uL8Sti02UoHXP1KVRqFW6OY/qu3iWL1T+j+UX4Euw+EAQA9+ViM7oOo/jKw2H3Iw4z9SlUahVujmP4oQy5Xmv/Q/jKw2H3Iw4z/JJ7sTAgjxP8ZZBU+8zwFACOLqma8v/D/JJ7sTAgjxP8knuxMCCPE/+wbUfgZv8L+fh006G/HeP8ZZBU+8zwFAMhnknHIfkz9H+doXy3f4P4ysNh9yMOM/xlkFT7zPAUA=\",\"dtype\":\"float64\",\"shape\":[31]},\"y\":{\"__ndarray__\":\"rl69gQIz+T/POSe/JPm9v2PQvP5uSOG/hLmUZbnR7r9j0Lz+bkjhv885J78k+b2/Y9C8/m5I4b/POSe/JPm9v2PQvP5uSOG/DVeATC/L8r/POSe/JPm9v2PQvP5uSOG/HWpRTl1u8j/POSe/JPm9v98D5p1LlNM/8MQoMhQN6L/wxCgyFA3ov9dqONwELLg/nbehlpMH1b8NV4BML8vyv65evYECM/k/nbehlpMH1b989l4Cy47gP3z2XgLLjuA/DVeATC/L8r8R68o1cFPnP2PQvP5uSOG/8MQoMhQN6L/POSe/JPm9vw1XgEwvy/K/zzknvyT5vb8=\",\"dtype\":\"float64\",\"shape\":[31]}}},\"id\":\"6dd99d1f-9f47-484c-aa07-e5300379a567\",\"type\":\"ColumnDataSource\"},{\"attributes\":{\"children\":[{\"id\":\"8a09049d-bd0b-4445-82b9-5cdf8d979a89\",\"type\":\"Row\"}]},\"id\":\"3bd0100c-e217-4f0c-a21d-e153803a4e37\",\"type\":\"Column\"},{\"attributes\":{\"active_drag\":\"auto\",\"active_inspect\":\"auto\",\"active_scroll\":\"auto\",\"active_tap\":\"auto\",\"tools\":[{\"id\":\"410c5576-6b68-4cc5-a5a6-e271cd3a8b7f\",\"type\":\"PanTool\"},{\"id\":\"f135d87b-0251-432f-ab03-63302ad5d1b4\",\"type\":\"WheelZoomTool\"},{\"id\":\"fa8e3a98-cf8b-4902-b0a9-daae1384212c\",\"type\":\"BoxZoomTool\"},{\"id\":\"9bdebe10-ee80-42e6-a86d-ea41aac311cb\",\"type\":\"SaveTool\"},{\"id\":\"aee2f019-9166-4cd4-8306-07dba4c1a1bb\",\"type\":\"ResetTool\"},{\"id\":\"13eb05cf-77a7-429a-9bda-71db5cefcd1f\",\"type\":\"HelpTool\"}]},\"id\":\"d4d23671-8769-4948-bcee-163967979dea\",\"type\":\"Toolbar\"},{\"attributes\":{\"source\":{\"id\":\"09a6ba78-c2a9-4e63-91d9-b69b436d5c3e\",\"type\":\"ColumnDataSource\"}},\"id\":\"d484f91c-9471-4a4a-a64f-5ad6cb94bdb5\",\"type\":\"CDSView\"},{\"attributes\":{\"data_source\":{\"id\":\"1ae5016e-67b1-4dc4-9d6a-936e14bc1cac\",\"type\":\"ColumnDataSource\"},\"glyph\":{\"id\":\"3a268129-0d4d-40f6-959a-a5c5f585632c\",\"type\":\"Line\"},\"hover_glyph\":null,\"muted_glyph\":null,\"nonselection_glyph\":{\"id\":\"4adce8cf-9b35-4544-85c1-5f60330e2bc2\",\"type\":\"Line\"},\"selection_glyph\":null,\"view\":{\"id\":\"da6cece2-69ed-4c13-ac2c-8c4203ca500f\",\"type\":\"CDSView\"}},\"id\":\"41e973fb-578b-4fe9-973b-9fc9175f483f\",\"type\":\"GlyphRenderer\"},{\"attributes\":{\"dimension\":1,\"plot\":{\"id\":\"9cc756be-eeb9-49cc-bee8-ddf207a2354a\",\"subtype\":\"Figure\",\"type\":\"Plot\"},\"ticker\":{\"id\":\"2084dd64-8437-43a5-911f-bfe314a8b6e1\",\"type\":\"BasicTicker\"}},\"id\":\"416e3247-67df-44f9-9ec6-0af485479036\",\"type\":\"Grid\"},{\"attributes\":{\"fill_color\":{\"value\":\"blue\"},\"line_color\":{\"value\":\"blue\"},\"x\":{\"field\":\"x\"},\"y\":{\"field\":\"y\"}},\"id\":\"7f9a6b26-99f7-42e1-8a0d-c418a28cdb97\",\"type\":\"Circle\"},{\"attributes\":{\"source\":{\"id\":\"a4393ea2-7d15-4627-873c-47c92c0aaee3\",\"type\":\"ColumnDataSource\"}},\"id\":\"15814c0f-1de5-46a6-836d-8a3772f2805d\",\"type\":\"CDSView\"},{\"attributes\":{\"fill_alpha\":{\"value\":0.1},\"fill_color\":{\"value\":\"#1f77b4\"},\"line_alpha\":{\"value\":0.1},\"line_color\":{\"value\":\"#1f77b4\"},\"x\":{\"field\":\"x\"},\"y\":{\"field\":\"y\"}},\"id\":\"cddbdf4b-540c-45b3-a5ab-82ca2a8b6b77\",\"type\":\"Circle\"},{\"attributes\":{\"children\":[{\"id\":\"b2812638-95b3-4e60-b448-0622127725d6\",\"type\":\"ToolbarBox\"},{\"id\":\"3bd0100c-e217-4f0c-a21d-e153803a4e37\",\"type\":\"Column\"}]},\"id\":\"da10bf7f-a185-4245-b47b-0fec6bd0a6df\",\"type\":\"Column\"},{\"attributes\":{\"fill_color\":{\"value\":\"greenyellow\"},\"line_color\":{\"value\":\"greenyellow\"},\"x\":{\"field\":\"x\"},\"y\":{\"field\":\"y\"}},\"id\":\"7c94a9c3-187c-4123-b518-b3cedfb8e21e\",\"type\":\"Circle\"},{\"attributes\":{\"toolbar\":{\"id\":\"4aad1997-537e-49b1-aa5f-488e2045461f\",\"type\":\"ProxyToolbar\"},\"toolbar_location\":\"above\"},\"id\":\"b2812638-95b3-4e60-b448-0622127725d6\",\"type\":\"ToolbarBox\"},{\"attributes\":{\"data_source\":{\"id\":\"a4393ea2-7d15-4627-873c-47c92c0aaee3\",\"type\":\"ColumnDataSource\"},\"glyph\":{\"id\":\"fed20894-32a8-4ec1-9b38-ce7fedfcd9d4\",\"type\":\"Circle\"},\"hover_glyph\":null,\"muted_glyph\":null,\"nonselection_glyph\":{\"id\":\"bd66a482-7fd1-46a6-b6cf-a51826da727d\",\"type\":\"Circle\"},\"selection_glyph\":null,\"view\":{\"id\":\"15814c0f-1de5-46a6-836d-8a3772f2805d\",\"type\":\"CDSView\"}},\"id\":\"11c29690-02bd-4652-aebf-30bbaff1c53b\",\"type\":\"GlyphRenderer\"},{\"attributes\":{\"line_color\":\"#1f77b4\",\"x\":{\"field\":\"x\"},\"y\":{\"field\":\"y\"}},\"id\":\"b1da89ef-6d06-41d9-b8d1-800c04fa6165\",\"type\":\"Line\"},{\"attributes\":{\"source\":{\"id\":\"478f4976-a016-4c8f-b1ab-c3b9913f87fb\",\"type\":\"ColumnDataSource\"}},\"id\":\"67321707-70f5-4e43-809b-2da04d557084\",\"type\":\"CDSView\"},{\"attributes\":{\"callback\":null,\"column_names\":[\"x\",\"y\"],\"data\":{\"x\":{\"__ndarray__\":\"OCWYeygm7b+MrDYfcjDjPzIZ5JxyH5M/n4dNOhvx3j98PIj5Q27pv+XC4rw1W8u/6QTT1tib9j/sMpHiYx3Vvz8m3FuAQ8E/meQNMokR0D+fh006G/HePyccw1T04/I/tlN4d1+25b/lwuK8NVvLv8xmZqUfWO4/jKw2H3Iw4z9SlUahVujmP5o/RmlH97i/meQNMokR0D84JZh7KCbtv8xmZqUfWO4/mj9GaUf3uL/sMpHiYx3Vv+wykeJjHdW/meQNMokR0D+KEMuV5r/0P+wykeJjHdW/MhnknHIfkz8yGeScch+TP5nkDTKJEdA/mj9GaUf3uL8Sti02UoHXP+XC4rw1W8u/ZgSx5iyN3L/sMpHiYx3Vv8knuxMCCPE/PybcW4BDwT/7BtR+Bm/wv+XC4rw1W8u/\",\"dtype\":\"float64\",\"shape\":[39]},\"y\":{\"__ndarray__\":\"oUvsf9SP+b+hS+x/1I/5v4S5lGW50e6/nbehlpMH1b8NV4BML8vyv523oZaTB9W/3wPmnUuU0z8NV4BML8vyv98D5p1LlNM/EevKNXBT5z/nRaIZJ/L8v2PQvP5uSOG/8MQoMhQN6L8NV4BML8vyv523oZaTB9W/DVeATC/L8r/fA+adS5TTP4S5lGW50e6/50WiGSfy/L8+HYcmZtsBwM85J78k+b2/Y9C8/m5I4b+EuZRludHuv6FL7H/Uj/m/nbehlpMH1b/XajjcBCy4P1dRNuaBLfa/8MQoMhQN6L/wxCgyFA3ov/DEKDIUDei/Y9C8/m5I4b9j0Lz+bkjhv885J78k+b2/zzknvyT5vb9XUTbmgS32v885J78k+b2/zzknvyT5vb9XUTbmgS32v885J78k+b2/\",\"dtype\":\"float64\",\"shape\":[39]}}},\"id\":\"1ba41fef-7f1c-4101-bf6c-0fbe5e65b8e2\",\"type\":\"ColumnDataSource\"},{\"attributes\":{\"data_source\":{\"id\":\"b46afaa4-fb04-4eeb-a206-9adbe3156860\",\"type\":\"ColumnDataSource\"},\"glyph\":{\"id\":\"3b877827-0047-4982-9d4a-a4fafc5f3ee6\",\"type\":\"Circle\"},\"hover_glyph\":null,\"muted_glyph\":null,\"nonselection_glyph\":{\"id\":\"54faabac-c72e-4f96-bb24-c227b9afd688\",\"type\":\"Circle\"},\"selection_glyph\":null,\"view\":{\"id\":\"0231617d-79ed-4ccf-bdb1-7f8d692dd5b8\",\"type\":\"CDSView\"}},\"id\":\"701270ac-0c38-48f3-b5bc-05dfad26da58\",\"type\":\"GlyphRenderer\"},{\"attributes\":{\"data_source\":{\"id\":\"478f4976-a016-4c8f-b1ab-c3b9913f87fb\",\"type\":\"ColumnDataSource\"},\"glyph\":{\"id\":\"872ab7da-6cb2-4c0d-9529-8f24eb7a95de\",\"type\":\"Circle\"},\"hover_glyph\":null,\"muted_glyph\":null,\"nonselection_glyph\":{\"id\":\"afc55bd5-9d73-46c7-8aac-1ce0937b98a8\",\"type\":\"Circle\"},\"selection_glyph\":null,\"view\":{\"id\":\"67321707-70f5-4e43-809b-2da04d557084\",\"type\":\"CDSView\"}},\"id\":\"1498e5ec-8310-4779-8903-1c2502cdd86d\",\"type\":\"GlyphRenderer\"},{\"attributes\":{\"data_source\":{\"id\":\"6dd99d1f-9f47-484c-aa07-e5300379a567\",\"type\":\"ColumnDataSource\"},\"glyph\":{\"id\":\"482f3cb8-63d1-43d5-b407-8d984b4d5d28\",\"type\":\"Circle\"},\"hover_glyph\":null,\"muted_glyph\":null,\"nonselection_glyph\":{\"id\":\"4f41fb7f-ccab-4a98-8de4-57af54ecb967\",\"type\":\"Circle\"},\"selection_glyph\":null,\"view\":{\"id\":\"c2517bf5-bb3c-4f5a-b092-2aac162d544a\",\"type\":\"CDSView\"}},\"id\":\"6602b0d9-d910-4d88-bfff-c4adc66c6648\",\"type\":\"GlyphRenderer\"},{\"attributes\":{\"fill_color\":{\"value\":\"greenyellow\"},\"line_color\":{\"value\":\"greenyellow\"},\"x\":{\"field\":\"x\"},\"y\":{\"field\":\"y\"}},\"id\":\"7d40099c-eede-4882-b9b1-3d999a7a09c5\",\"type\":\"Circle\"},{\"attributes\":{\"fill_alpha\":{\"value\":0.1},\"fill_color\":{\"value\":\"#1f77b4\"},\"line_alpha\":{\"value\":0.1},\"line_color\":{\"value\":\"#1f77b4\"},\"x\":{\"field\":\"x\"},\"y\":{\"field\":\"y\"}},\"id\":\"afc55bd5-9d73-46c7-8aac-1ce0937b98a8\",\"type\":\"Circle\"},{\"attributes\":{\"callback\":null,\"column_names\":[\"x\",\"y\"],\"data\":{\"x\":{\"__ndarray__\":\"OCWYeygm7b+MrDYfcjDjPzIZ5JxyH5M/n4dNOhvx3j98PIj5Q27pv+XC4rw1W8u/6QTT1tib9j/sMpHiYx3Vvz8m3FuAQ8E/meQNMokR0D+fh006G/HePyccw1T04/I/tlN4d1+25b/lwuK8NVvLv8xmZqUfWO4/jKw2H3Iw4z9SlUahVujmP5o/RmlH97i/meQNMokR0D84JZh7KCbtv8xmZqUfWO4/mj9GaUf3uL/sMpHiYx3Vv+wykeJjHdW/meQNMokR0D+KEMuV5r/0P+wykeJjHdW/MhnknHIfkz8yGeScch+TP5nkDTKJEdA/mj9GaUf3uL8Sti02UoHXP+XC4rw1W8u/ZgSx5iyN3L/sMpHiYx3Vv8knuxMCCPE/PybcW4BDwT/7BtR+Bm/wv+XC4rw1W8u/\",\"dtype\":\"float64\",\"shape\":[39]},\"y\":{\"__ndarray__\":\"+rMOD9u45782F6fCq3Xiv4JT9qTRe+S/RSPq70zd4r/qp8vhOVHnv6BrfP8TS+W/m4WjC4dA37+ud78stbLlv3JHs3cwFOS/ZDtwSo+s479FI+rvTN3iv+vaV+CFb+C/25uItJjp5r+ga3z/E0vlvwnz3TrIPuG/Nhenwqt14r8nC2SVCg7iv5BfOdJy4+S/ZDtwSo+s47/6sw4P27jnvwnz3TrIPuG/kF850nLj5L+ud78stbLlv653vyy1suW/ZDtwSo+s47/czhSz5Afgv653vyy1suW/glP2pNF75L+CU/ak0Xvkv2Q7cEqPrOO/kF850nLj5L9VLy0d7kTjv6BrfP8TS+W/voMCWlYa5r+ud78stbLlv/rmmg0n1+C/ckezdzAU5L8IwFE8fCDov6BrfP8TS+W/\",\"dtype\":\"float64\",\"shape\":[39]}}},\"id\":\"6f390bd8-3037-43d9-882f-9745ea866ec0\",\"type\":\"ColumnDataSource\"},{\"attributes\":{},\"id\":\"7a5910cd-dc56-4a4c-9adf-c89af4247c6d\",\"type\":\"BasicTickFormatter\"},{\"attributes\":{\"tools\":[{\"id\":\"6ff9dde1-b0f4-4a6e-b565-75d989efa0cf\",\"type\":\"PanTool\"},{\"id\":\"885a3e82-acc3-46e2-b539-631b15957c90\",\"type\":\"WheelZoomTool\"},{\"id\":\"5f46eafe-ee55-4d63-9118-b0f57a68a55c\",\"type\":\"BoxZoomTool\"},{\"id\":\"255f21b4-644b-43d6-b8cb-4ff3ea84da8a\",\"type\":\"SaveTool\"},{\"id\":\"529724ee-cfe1-4a4f-a8fc-a630f8092449\",\"type\":\"ResetTool\"},{\"id\":\"b4fe063d-bd57-4d32-bfe0-94c4384f7937\",\"type\":\"HelpTool\"},{\"id\":\"9e328375-cf94-4dae-b3ab-ba8ededcad88\",\"type\":\"PanTool\"},{\"id\":\"930851a8-5a41-403e-9852-579b9b3ab2f2\",\"type\":\"WheelZoomTool\"},{\"id\":\"b58cd7e2-1e93-4106-b7ef-ee98ec0e285f\",\"type\":\"BoxZoomTool\"},{\"id\":\"2667635a-aa8b-4f97-bda4-421dae36df3e\",\"type\":\"SaveTool\"},{\"id\":\"902864d5-5a9c-433b-b4b5-d76fe21b0a4a\",\"type\":\"ResetTool\"},{\"id\":\"c1cddaa9-d2a7-4f53-aada-1d1681ddfbd1\",\"type\":\"HelpTool\"},{\"id\":\"410c5576-6b68-4cc5-a5a6-e271cd3a8b7f\",\"type\":\"PanTool\"},{\"id\":\"f135d87b-0251-432f-ab03-63302ad5d1b4\",\"type\":\"WheelZoomTool\"},{\"id\":\"fa8e3a98-cf8b-4902-b0a9-daae1384212c\",\"type\":\"BoxZoomTool\"},{\"id\":\"9bdebe10-ee80-42e6-a86d-ea41aac311cb\",\"type\":\"SaveTool\"},{\"id\":\"aee2f019-9166-4cd4-8306-07dba4c1a1bb\",\"type\":\"ResetTool\"},{\"id\":\"13eb05cf-77a7-429a-9bda-71db5cefcd1f\",\"type\":\"HelpTool\"}]},\"id\":\"4aad1997-537e-49b1-aa5f-488e2045461f\",\"type\":\"ProxyToolbar\"},{\"attributes\":{\"source\":{\"id\":\"1ba41fef-7f1c-4101-bf6c-0fbe5e65b8e2\",\"type\":\"ColumnDataSource\"}},\"id\":\"c6cc1140-ee13-4666-9b58-8c2f593da447\",\"type\":\"CDSView\"},{\"attributes\":{\"line_alpha\":0.1,\"line_color\":\"#1f77b4\",\"x\":{\"field\":\"x\"},\"y\":{\"field\":\"y\"}},\"id\":\"89c9cd95-c434-4670-9800-d92e3cfde136\",\"type\":\"Line\"},{\"attributes\":{\"line_alpha\":0.1,\"line_color\":\"#1f77b4\",\"x\":{\"field\":\"x\"},\"y\":{\"field\":\"y\"}},\"id\":\"4adce8cf-9b35-4544-85c1-5f60330e2bc2\",\"type\":\"Line\"},{\"attributes\":{\"line_color\":\"#1f77b4\",\"x\":{\"field\":\"x\"},\"y\":{\"field\":\"y\"}},\"id\":\"3a268129-0d4d-40f6-959a-a5c5f585632c\",\"type\":\"Line\"},{\"attributes\":{\"callback\":null,\"column_names\":[\"x\",\"y\"],\"data\":{\"x\":{\"__ndarray__\":\"+wbUfgZv8L+87+MA6yb0vx/k60HdAva/Xvvbv/hK8r98PIj5Q27pv3w8iPlDbum/ZgSx5iyN3L/7BtR+Bm/wv33Y84LP3ve/3Mz7w8G6+b84JZh7KCbtvzglmHsoJu2/fDyI+UNu6b98PIj5Q27pvz/BAwW0lvu/fDyI+UNu6b/czPvDwbr5v3w8iPlDbum/OCWYeygm7b+2U3h3X7blvzIZ5JxyH5M/mj9GaUf3uL8f5OtB3QL2v+wykeJjHdW/OCWYeygm7b/7BtR+Bm/wv17727/4SvK/OCWYeygm7b/5amj1ev7hv7ZTeHdftuW/OCWYeygm7b8f5OtB3QL2vx/k60HdAva/ZgSx5iyN3L84JZh7KCbtv3w8iPlDbum/ZgSx5iyN3L9mBLHmLI3cv+wykeJjHdW/OCWYeygm7b9e+9u/+Eryv2YEseYsjdy/\",\"dtype\":\"float64\",\"shape\":[42]},\"y\":{\"__ndarray__\":\"5Ws1LI5V67+SiAe/4aD1v+TxfRPvm/m/Rh+RatSl8b91jbe0sdLWv3WNt7Sx0ta/V2LVQO7x2D/lazUsjlXrvy5b9Gf8lv2/PWI13gTJAMBOmUiDc1/jv06ZSINzX+O/dY23tLHS1r91jbe0sdLWv+eWcIiLxgLAdY23tLHS1r89YjXeBMkAwHWNt7Sx0ta/TplIg3Nf47+boHeL8Zm7v8n9DuKwKPY/fpSYjaMt8j/k8X0T75v5v8GDV8kRb+Q/TplIg3Nf47/lazUsjlXrv0YfkWrUpfG/TplIg3Nf478HevfdcQvCP5ugd4vxmbu/TplIg3Nf47/k8X0T75v5v+TxfRPvm/m/V2LVQO7x2D9OmUiDc1/jv3WNt7Sx0ta/V2LVQO7x2D9XYtVA7vHYP8GDV8kRb+Q/TplIg3Nf479GH5Fq1KXxv1di1UDu8dg/\",\"dtype\":\"float64\",\"shape\":[42]}}},\"id\":\"1ae5016e-67b1-4dc4-9d6a-936e14bc1cac\",\"type\":\"ColumnDataSource\"},{\"attributes\":{\"data_source\":{\"id\":\"277cfbbd-f32a-480f-87c5-01301cc693ef\",\"type\":\"ColumnDataSource\"},\"glyph\":{\"id\":\"b1da89ef-6d06-41d9-b8d1-800c04fa6165\",\"type\":\"Line\"},\"hover_glyph\":null,\"muted_glyph\":null,\"nonselection_glyph\":{\"id\":\"89c9cd95-c434-4670-9800-d92e3cfde136\",\"type\":\"Line\"},\"selection_glyph\":null,\"view\":{\"id\":\"0ba63c0b-8e04-4042-87ec-a0260dffd1bb\",\"type\":\"CDSView\"}},\"id\":\"159f5797-20a4-4553-b27c-cee0d01263cc\",\"type\":\"GlyphRenderer\"}],\"root_ids\":[\"da10bf7f-a185-4245-b47b-0fec6bd0a6df\"]},\"title\":\"Bokeh Application\",\"version\":\"0.12.13\"}};\n",
       "  var render_items = [{\"docid\":\"0493ff30-317b-4b2f-8058-e11c7ad5a3b8\",\"elementid\":\"f5c47857-662d-4507-96f5-31067d2ff7ef\",\"modelid\":\"da10bf7f-a185-4245-b47b-0fec6bd0a6df\"}];\n",
       "  root.Bokeh.embed.embed_items_notebook(docs_json, render_items);\n",
       "\n",
       "  }\n",
       "  if (root.Bokeh !== undefined) {\n",
       "    embed_document(root);\n",
       "  } else {\n",
       "    var attempts = 0;\n",
       "    var timer = setInterval(function(root) {\n",
       "      if (root.Bokeh !== undefined) {\n",
       "        embed_document(root);\n",
       "        clearInterval(timer);\n",
       "      }\n",
       "      attempts++;\n",
       "      if (attempts > 100) {\n",
       "        console.log(\"Bokeh: ERROR: Unable to run BokehJS code because BokehJS library is missing\")\n",
       "        clearInterval(timer);\n",
       "      }\n",
       "    }, 10, root)\n",
       "  }\n",
       "})(window);"
      ],
      "application/vnd.bokehjs_exec.v0+json": ""
     },
     "metadata": {
      "application/vnd.bokehjs_exec.v0+json": {
       "id": "da10bf7f-a185-4245-b47b-0fec6bd0a6df"
      }
     },
     "output_type": "display_data"
    }
   ],
   "source": [
    "p0 = bokeh.plotting.figure(\n",
    "    title='Class 0 versus the rest',\n",
    "    x_axis_label='Sepal length',\n",
    "    y_axis_label='Sepal width',\n",
    "    width=200, height=300,\n",
    ")\n",
    "p1 = bokeh.plotting.figure(\n",
    "    title='Class 1 versus the rest',\n",
    "    x_axis_label='Sepal length',\n",
    "    width=200, height=300,\n",
    "    x_range=p0.x_range, y_range=p0.y_range,\n",
    ")\n",
    "p2 = bokeh.plotting.figure(\n",
    "    title='Class 2 versus the rest',\n",
    "    x_axis_label='Sepal length',\n",
    "    width=200, height=300,\n",
    "    x_range=p0.x_range, y_range=p0.y_range\n",
    ")\n",
    "ps = [p0, p1, p2]\n",
    "\n",
    "for i in set(y_train):\n",
    "    mask = y_train == i\n",
    "    xs = X_train[:, 0][mask]\n",
    "    ys = X_train[:, 1][mask]\n",
    "    p0.circle(xs, ys, color=colors[i])\n",
    "    p1.circle(xs, ys, color=colors[i])\n",
    "    p2.circle(xs, ys, color=colors[i])\n",
    "    #           legend=iris.target_names[i])\n",
    "    ys = (-clf.intercept_[i] - xs * clf.coef_[i, 0]) / clf.coef_[i, 1]\n",
    "    ps[i].line(xs, ys)\n",
    "p0.y_range\n",
    "    \n",
    "grid = gridplot([ps])\n",
    "bokeh.plotting.show(grid)"
   ]
  },
  {
   "cell_type": "markdown",
   "metadata": {},
   "source": [
    "Suppose we have a new flower with a sepal width of 4.7 and a sepal length of 3.1.  What is the predicted class?"
   ]
  },
  {
   "cell_type": "code",
   "execution_count": 63,
   "metadata": {},
   "outputs": [
    {
     "name": "stdout",
     "output_type": "stream",
     "text": [
      "scaled size: -1.2595014605312675, 0.09442167641138198\n"
     ]
    },
    {
     "data": {
      "text/plain": [
       "array([0])"
      ]
     },
     "execution_count": 63,
     "metadata": {},
     "output_type": "execute_result"
    }
   ],
   "source": [
    "new_flower = [4.7, 3.1]\n",
    "scaled = scaler.transform([new_flower])\n",
    "print('scaled size: {}, {}'.format(scaled[0, 0], scaled[0, 1]))\n",
    "clf.predict(scaled)"
   ]
  },
  {
   "cell_type": "markdown",
   "metadata": {},
   "source": [
    "What is this in scaled units?"
   ]
  },
  {
   "cell_type": "code",
   "execution_count": 66,
   "metadata": {},
   "outputs": [
    {
     "data": {
      "text/plain": [
       "array([[-1.25950146,  0.09442168]])"
      ]
     },
     "execution_count": 66,
     "metadata": {},
     "output_type": "execute_result"
    }
   ],
   "source": [
    "scaled"
   ]
  },
  {
   "cell_type": "markdown",
   "metadata": {},
   "source": [
    "This classifier is simply picking the line that is the furthes from the point."
   ]
  },
  {
   "cell_type": "code",
   "execution_count": 67,
   "metadata": {},
   "outputs": [
    {
     "name": "stdout",
     "output_type": "stream",
     "text": [
      "[[ 5.12862185 -1.33365704 -3.1642322 ]]\n"
     ]
    }
   ],
   "source": [
    "print(clf.decision_function(scaled))"
   ]
  },
  {
   "cell_type": "code",
   "execution_count": null,
   "metadata": {
    "collapsed": true
   },
   "outputs": [],
   "source": []
  }
 ],
 "metadata": {
  "kernelspec": {
   "display_name": "Python 3",
   "language": "python",
   "name": "python3"
  },
  "language_info": {
   "codemirror_mode": {
    "name": "ipython",
    "version": 3
   },
   "file_extension": ".py",
   "mimetype": "text/x-python",
   "name": "python",
   "nbconvert_exporter": "python",
   "pygments_lexer": "ipython3",
   "version": "3.6.1"
  }
 },
 "nbformat": 4,
 "nbformat_minor": 2
}
